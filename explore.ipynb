{
 "cells": [
  {
   "cell_type": "markdown",
   "id": "edf5aa78-89cf-4b65-8f6d-49fd2edebf26",
   "metadata": {},
   "source": [
    "# Regression Exploration exercises"
   ]
  },
  {
   "cell_type": "code",
   "execution_count": 126,
   "id": "6ccddd29-58e7-417b-af8b-0ad425f8fb67",
   "metadata": {},
   "outputs": [],
   "source": [
    "import pandas as pd\n",
    "import numpy as np\n",
    "\n",
    "import seaborn as sns\n",
    "import matplotlib.pyplot as plt\n",
    "\n",
    "import wrangle\n",
    "from explore import plot_categorical_and_continuous_vars\n",
    "from env import get_db_url\n",
    "import os\n",
    "\n",
    "from sklearn.model_selection import train_test_split\n",
    "from scipy import stats\n",
    "\n",
    "import warnings\n",
    "warnings.filterwarnings('ignore')\n",
    "\n",
    "pd.options.display.max_columns = None\n",
    "pd.options.display.max_rows = None"
   ]
  },
  {
   "cell_type": "markdown",
   "id": "7cfa8ad1-21d6-4168-b8fc-5601e8f4e80e",
   "metadata": {},
   "source": [
    "## Exercises I - Required\n",
    "\n",
    "Our Telco scenario continues:\n",
    "\n",
    "As a customer analyst for Telco, you want to know who has spent the most money with the company over their lifetime. You have monthly charges and tenure, so you think you will be able to use those two attributes as features to estimate total charges. You need to do this within an average of $5.00 per customer."
   ]
  },
  {
   "cell_type": "code",
   "execution_count": 127,
   "id": "437e5467-0994-4e99-bc2f-0573d1f499b6",
   "metadata": {
    "jupyter": {
     "source_hidden": true
    },
    "tags": []
   },
   "outputs": [],
   "source": [
    "## Functions pulled from previous project\n",
    "def get_telco_data(use_cache=True):\n",
    "    '''\n",
    "    This function uses the create_url() funciton to retrieve the requested data and \n",
    "    returns a dataframe.\n",
    "    '''\n",
    "    filename = 'telco.csv'\n",
    "    if os.path.exists(filename) and use_cache:\n",
    "        print('Using cached csv file...')\n",
    "        return pd.read_csv(filename)\n",
    "    \n",
    "    print('Getting a fresh copy from the database...')\n",
    "    url = get_db_url('telco_churn')\n",
    "    telco_data = pd.read_sql('''\n",
    "    SELECT *\n",
    "    FROM customers\n",
    "    JOIN contract_types\n",
    "    USING(contract_type_id)\n",
    "    JOIN payment_types\n",
    "    USING(payment_type_id)\n",
    "    JOIN internet_service_types\n",
    "    USING(internet_service_type_id)\n",
    "    ''', url)\n",
    "    \n",
    "    print('Saving to csv...')\n",
    "    telco_data.to_csv(filename, index=False)\n",
    "    return telco_data\n",
    "\n",
    "def prep_telco(df):\n",
    "    \n",
    "    #This function prepares the data for exploration.\n",
    "    \n",
    "    # Drop duplicate columns\n",
    "    \n",
    "    drop_columns = ['internet_service_type_id',\n",
    "                    'payment_type_id',\n",
    "                    'contract_type_id']    \n",
    "    \n",
    "    df = df.drop(columns=drop_columns)\n",
    "    \n",
    "    # Drop whitespace values in total_charges\n",
    "    \n",
    "    df['total_charges'] = df['total_charges'].str.strip()\n",
    "    \n",
    "    df = df[df.total_charges != '']\n",
    "    \n",
    "    # Convert total_charges to the correct data type\n",
    "    \n",
    "    df['total_charges'] = df['total_charges'].astype(float)\n",
    "    \n",
    "    # convert categorical data that is binary in nature to numeric binary characters\n",
    "    \n",
    "    df['gender'] = df.gender.str.replace('Male', '1').str.replace('Female', '0')\n",
    "    df['partner'] = df.partner.str.replace('Yes', '1').str.replace('No', '0')\n",
    "    df['dependents'] = df.dependents.str.replace('Yes', '1').str.replace('No', '0')\n",
    "    df['phone_service'] = df.phone_service.str.replace('Yes', '1').str.replace('No', '0')    \n",
    "    df['paperless_billing'] = df.paperless_billing.str.replace('Yes','1')\\\n",
    "                                                 .str.replace('No', '0')\n",
    "    df['churn'] = df.churn.str.replace('Yes', '1')\\\n",
    "                          .str.replace('No', '0')\n",
    "    \n",
    "    df[['gender','partner','dependents',\\\n",
    "        'phone_service','paperless_billing','churn']]\\\n",
    "                             = df[['gender','partner','dependents',\n",
    "                                   'phone_service','paperless_billing',\n",
    "                                   'churn']].astype(int)\n",
    "    \n",
    "    # Create dummy variables for categorical variables\n",
    "    \n",
    "    dummy_name = pd.get_dummies(df[['multiple_lines',\n",
    "                                    'online_security', \n",
    "                                    'online_backup',\n",
    "                                    'device_protection',\n",
    "                                    'tech_support',\n",
    "                                    'streaming_tv',\n",
    "                                    'streaming_movies',\n",
    "                                    'contract_type',\n",
    "                                    'payment_type',\n",
    "                                    'internet_service_type']],\n",
    "                                    dummy_na=False)\n",
    "    \n",
    "    # Combine dataframes to include all variables\n",
    "    \n",
    "    df = pd.concat([df,dummy_name],axis=1)\n",
    "    \n",
    "    # Rename columns to remove spaces\n",
    "    \n",
    "    df = df.rename(columns = {'contract_type_One year' : 'contract_type_One_year', \n",
    "                     'contract_type_Two year' : 'contract_type_Two_year', \n",
    "                     'payment_type_Bank transfer (automatic)' : 'payment_type_Bank_transfer_(automatic)', \n",
    "                     'payment_type_Credit card (automatic)' : 'payment_type_Credit_card_(automatic)', \n",
    "                     'payment_type_Electronic check' : 'payment_type_Electronic_check', \n",
    "                     'payment_type_Mailed check' : 'payment_type_Mailed_check', \n",
    "                     'multiple_lines_No phone service' : 'multiple_lines_No_phone_service', \n",
    "                     'online_security_No internet service' : 'online_security_No_internet_service', \n",
    "                     'online_backup_No internet service' : 'online_backup_No_internet_service', \n",
    "                     'device_protection_No internet service' : 'device_protection_No_internet_service', \n",
    "                     'tech_support_No internet service' : 'tech_support_No_internet_service', \n",
    "                     'streaming_tv_No internet service' : 'streaming_tv_No_internet_service', \n",
    "                     'streaming_movies_No internet service' : 'streaming_movies_No_internet_service', \n",
    "                     'internet_service_type_Fiber optic': 'internet_service_type_Fiber_optic'})\n",
    "    \n",
    "    # Create a column that gives a count of additional services for each customer\n",
    "    \n",
    "    df['service_count'] = (df[['online_security_Yes', 'online_backup_Yes','device_protection_Yes', \n",
    "                               'tech_support_Yes', 'streaming_tv_Yes', 'streaming_movies_Yes']] == 1).sum(axis=1)\n",
    "    \n",
    "    # Output cleaned DataFrame\n",
    "    \n",
    "    return df\n",
    "\n",
    "def train_validate_test_split(df, target):\n",
    "    \n",
    "    # Splits data into train, validate and tests sets for further processesing. Use target variable to stratify data to ensure class frequencies. \n",
    "    \n",
    "    train_validate, test = train_test_split(df, test_size=0.2, random_state=123, stratify=df[target])\n",
    "    \n",
    "    train, validate = train_test_split(train_validate, test_size=0.3, random_state=123, stratify=train_validate[target])\n",
    "    \n",
    "    # Returns the split data with train making up 56% of the data, validate making up 24% of the data and test representing the remaining 20%\n",
    "    \n",
    "    return train, validate, test\n",
    "\n",
    "def clean_split_telco(df, target):\n",
    "    \n",
    "    # Uses both prep and split functions to fully prepare data\n",
    "    \n",
    "    cleaned_df = prep_telco(df)\n",
    "    \n",
    "    train, validate, test = train_validate_test_split(cleaned_df, target)\n",
    "    \n",
    "    # Returns the fully preped data for further analysis\n",
    "    \n",
    "    return train, validate, test"
   ]
  },
  {
   "cell_type": "code",
   "execution_count": 128,
   "id": "3d9947e8-aad7-4ea7-9268-93323cd8c003",
   "metadata": {},
   "outputs": [
    {
     "name": "stdout",
     "output_type": "stream",
     "text": [
      "Using cached csv file...\n"
     ]
    }
   ],
   "source": [
    "telco = get_telco_data()"
   ]
  },
  {
   "cell_type": "markdown",
   "id": "ffb3a02e-9bf1-48c3-afef-ae4d34419aa0",
   "metadata": {},
   "source": [
    "1) Make sure to perform a train, validate, test split before and use only your train dataset to explore the relationships between independent variables with other independent variables or independent variables with your target variable."
   ]
  },
  {
   "cell_type": "code",
   "execution_count": 129,
   "id": "8e75802f-c5e5-4d2c-ac02-c3986c0ce8cf",
   "metadata": {},
   "outputs": [],
   "source": [
    "train, validate, test = clean_split_telco(telco, 'churn')"
   ]
  },
  {
   "cell_type": "markdown",
   "id": "bc945196-f2fa-4313-b3ec-4ec7f481e08e",
   "metadata": {},
   "source": [
    "2) Write a function named plot_variable_pairs that accepts a dataframe as input and plots all of the pairwise relationships along with the regression line for each pair."
   ]
  },
  {
   "cell_type": "code",
   "execution_count": 130,
   "id": "24ba62f2-fc1f-4d82-aae3-4c8dc0ea6e35",
   "metadata": {},
   "outputs": [
    {
     "data": {
      "image/png": "[encoded data removed]",
      "text/plain": [
       "<Figure size 540x540 with 9 Axes>"
      ]
     },
     "metadata": {
      "needs_background": "light"
     },
     "output_type": "display_data"
    }
   ],
   "source": [
    "def plot_variable_pairs(df):\n",
    "    sns.pairplot(df, kind='reg', plot_kws={'line_kws':{'color':'red'}},corner=True)\n",
    "    \n",
    "plot_variable_pairs(train[['tenure','monthly_charges','total_charges']])"
   ]
  },
  {
   "cell_type": "markdown",
   "id": "fa06215b-71da-436d-ba4b-0d7b490c0a77",
   "metadata": {},
   "source": [
    "3. Write a function named months_to_years that accepts your telco churn dataframe and returns a dataframe with a new feature tenure_years, in complete years as a customer."
   ]
  },
  {
   "cell_type": "code",
   "execution_count": 131,
   "id": "d88142c7-7cdb-4c20-8e09-43708da3bfda",
   "metadata": {},
   "outputs": [
    {
     "data": {
      "text/plain": [
       "6135    6\n",
       "2034    2\n",
       "5390    3\n",
       "2574    0\n",
       "6418    4\n",
       "Name: tenure_years, dtype: int64"
      ]
     },
     "execution_count": 131,
     "metadata": {},
     "output_type": "execute_result"
    }
   ],
   "source": [
    "def months_to_years(df):\n",
    "    df['tenure_years'] = (df.tenure / 12).astype('int') \n",
    "    \n",
    "months_to_years(train)\n",
    "train.tenure_years.head()"
   ]
  },
  {
   "cell_type": "markdown",
   "id": "d35fa9a3-0609-4b44-88df-14cb630a0438",
   "metadata": {},
   "source": [
    "4. Write a function named plot_categorical_and_continuous_vars that accepts your dataframe and the name of the columns that hold the continuous and categorical features and outputs 3 different plots for visualizing a categorical variable and a continuous variable."
   ]
  },
  {
   "cell_type": "code",
   "execution_count": 1,
   "id": "e918e822-1271-4b23-8122-b7f77d32bbd1",
   "metadata": {},
   "outputs": [],
   "source": [
    "continuous_var = ['monthly_charges','total_charges']\n",
    "categorical_var = ['gender','senior_citizen','partner','dependents',\\\n",
    "             'phone_service','multiple_lines', 'online_security',\\\n",
    "             'online_backup','device_protection', 'tech_support',\\\n",
    "             'streaming_tv', 'streaming_movies','contract_type',\\\n",
    "             'payment_type', 'internet_service_type','churn']\n",
    "discrete_var = ['tenure','service_count']\n",
    "\n",
    "def plot_categorical_and_continuous_vars(df, continuous_features, categorical_features):\n",
    "    for cat in categorical_var:\n",
    "        for con in continuous_var:\n",
    "            fig, ax = plt.subplots(ncols=3, sharey=True, sharex=True, figsize=(14,8))\n",
    "            sns.boxplot(x=cat, y= con, data=train, ax=ax[0])\n",
    "            sns.swarmplot(x=cat, y= con, data=train, ax=ax[0], zorder=0)\n",
    "            sns.stripplot(x=cat, y= con, data=train, ax=ax[1])\n",
    "            sns.barplot(x=cat, y=con, data=train, ax=ax[2])\n",
    "            plt.show()\n",
    "            \n",
    "#print(plot_categorical_and_continuous_vars(train, continuous_var, categorical_var))"
   ]
  },
  {
   "cell_type": "code",
   "execution_count": 2,
   "id": "acaf1fa1-ab9f-4451-a56b-058d338eee26",
   "metadata": {},
   "outputs": [],
   "source": [
    "# for cat in categorical_var:\n",
    "#         for con in continuous_var:\n",
    "#             fig, ax = plt.subplots(ncols=3, figsize=(14,8))\n",
    "#             sns.boxplot(x=cat, y= con, data=train, ax=ax[0])\n",
    "#             sns.swarmplot(x=cat, y= con, data=train, ax=ax[0], zorder=0)\n",
    "#             sns.stripplot(x=cat, y= con, data=train, ax=ax[1])\n",
    "#             sns.barplot(x=cat, y=con, data=train, ax=ax[2])\n",
    "#             plt.show()"
   ]
  },
  {
   "cell_type": "markdown",
   "id": "3188f20d-7115-4323-95bd-0f532e45ea5a",
   "metadata": {},
   "source": [
    "5. Save the functions you have written to create visualizations in your explore.py file. Rewrite your notebook code so that you are using the functions imported from this file."
   ]
  },
  {
   "cell_type": "code",
   "execution_count": 3,
   "id": "e5bb5519-51bd-4097-b0e3-54dac760448f",
   "metadata": {},
   "outputs": [],
   "source": [
    "# plot_categorical_and_continuous_vars(train, continuous_var, categorical_var)"
   ]
  },
  {
   "cell_type": "markdown",
   "id": "13f4264d-acd2-4ce4-88ae-1e073620e90a",
   "metadata": {},
   "source": [
    "6. Explore your dataset with any other visualizations you think will be helpful."
   ]
  },
  {
   "cell_type": "code",
   "execution_count": null,
   "id": "ddf53ad2-2d3d-4641-a3e8-a1705b88757c",
   "metadata": {},
   "outputs": [],
   "source": [
    "for cat in categorical_var:\n",
    "    for con in continuous_var:        \n",
    "        fig, ax = plt.subplots(ncols=3, sharey=True, sharex=True, figsize=(14,8))\n",
    "        sns.boxplot(x=cat, y= con, data=train, hue = 'churn', ax=ax[0])\n",
    "        sns.barplot(x=cat, y= con, data=train, hue = 'churn', ax=ax[1])\n",
    "        sns.swarmplot(x=cat, y= con, data=train, hue = 'churn', ax=ax[2])"
   ]
  },
  {
   "cell_type": "code",
   "execution_count": null,
   "id": "d7a52777-a830-4c5d-a48a-e38893a34691",
   "metadata": {},
   "outputs": [],
   "source": [
    "for cat in categorical_var:\n",
    "    for dis in discrete_var:\n",
    "        fig, ax = plt.subplots(ncols=3, sharey=True, sharex=True, figsize=(14,8))\n",
    "        sns.boxplot(x=dis, y= cat, data=train, hue = 'churn', ax=ax[0])\n",
    "        sns.barplot(x=dis, y= cat, data=train, hue = 'churn', ax=ax[1])\n",
    "        sns.swarmplot(x=dis, y= cat, data=train, hue = 'churn', ax=ax[2])"
   ]
  },
  {
   "cell_type": "code",
   "execution_count": null,
   "id": "185e7410-5b97-4820-9afb-f7dcadd7244f",
   "metadata": {},
   "outputs": [],
   "source": [
    "for cat in categorical_var:\n",
    "        for con in continuous_var:\n",
    "            fig, ax = plt.subplots(ncols=3, sharey=True, sharex=True, figsize=(14,8))\n",
    "            sns.swarmplot(x='service_count', y= con, data=train, hue = cat, ax=ax[0])\n",
    "            sns.boxplot(x='service_count', y= con, data=train, hue = cat, ax=ax[1])\n",
    "            sns.stripplot(x='service_count', y= con, data=train, hue = cat, ax=ax[2])"
   ]
  },
  {
   "cell_type": "code",
   "execution_count": null,
   "id": "6505a8f5-d565-43b9-91fe-e0c280dc66c5",
   "metadata": {},
   "outputs": [],
   "source": [
    "for cat in categorical_var:\n",
    "        for con in continuous_var:\n",
    "            fig, ax = plt.subplots(ncols=2, sharey=True, sharex=True, figsize=(14,8))\n",
    "            sns.swarmplot(x='service_count', y= con, data=train, hue = cat, ax=ax[0])\n",
    "            sns.boxplot(x='service_count', y= con, data=train, hue = cat, ax=ax[0])\n",
    "            sns.stripplot(x='service_count', y= con, data=train, hue = cat, ax=ax[1])"
   ]
  },
  {
   "cell_type": "code",
   "execution_count": null,
   "id": "eae6ae29-0e18-4711-9dcd-cd1e73981502",
   "metadata": {},
   "outputs": [],
   "source": [
    "for cat in categorical_var:\n",
    "        for con in continuous_var:\n",
    "            fig, ax = plt.subplots(ncols=2, sharey=True, sharex=True, figsize=(14,8))\n",
    "            sns.swarmplot(x=con, y= cat, data=train, ax=ax[0])\n",
    "            sns.boxplot(x=con, y= cat, data=train, ax=ax[0])\n",
    "            sns.stripplot(x=con, y= cat, data=train, ax=ax[1])"
   ]
  },
  {
   "cell_type": "code",
   "execution_count": null,
   "id": "c7e1e357-53f9-456a-859d-7ff9fa9247bc",
   "metadata": {},
   "outputs": [],
   "source": []
  },
  {
   "cell_type": "markdown",
   "id": "f79eaf9f-beab-4e8d-8718-328c0c1f9ef2",
   "metadata": {},
   "source": [
    "7. In a seperate notebook, use the functions you have developed in this exercise with the mall_customers dataset in the Codeup database server. You will need to write a sql query to acquire your data. Make spending_score your target variable."
   ]
  },
  {
   "cell_type": "markdown",
   "id": "4af318c6-2fe4-430c-b9ae-c9aa85034fb1",
   "metadata": {},
   "source": [
    "- See mall_customers.ipynb"
   ]
  },
  {
   "cell_type": "markdown",
   "id": "88f4f4db-0bdb-4dda-b114-d88ca87ccb7d",
   "metadata": {},
   "source": [
    "## Exercises II - Challenge\n",
    "Our Zillow scenario continues:\n",
    "\n",
    "As a Codeup data science graduate, you want to show off your skills to the Zillow data science team in hopes of getting an interview for a position you saw pop up on LinkedIn. You thought it might look impressive to build an end-to-end project in which you use some of their Kaggle data to predict property values using some of their available features; who knows, you might even do some feature engineering to blow them away. Your goal is to predict the values of single unit properties using the observations from 2017.\n",
    "\n",
    "In these exercises, you will run through the stages of exploration as you continue to work toward the above goal.Exercises II - Challenge\n",
    "Our Zillow scenario continues:\n",
    "\n",
    "As a Codeup data science graduate, you want to show off your skills to the Zillow data science team in hopes of getting an interview for a position you saw pop up on LinkedIn. You thought it might look impressive to build an end-to-end project in which you use some of their Kaggle data to predict property values using some of their available features; who knows, you might even do some feature engineering to blow them away. Your goal is to predict the values of single unit properties using the observations from 2017.\n",
    "\n",
    "In these exercises, you will run through the stages of exploration as you continue to work toward the above goal."
   ]
  },
  {
   "cell_type": "markdown",
   "id": "d35c3ae6-1fff-44c6-a6b2-56f019cbd6ca",
   "metadata": {},
   "source": [
    "1. Use the functions you created above to explore your Zillow train dataset in your explore.ipynb notebook."
   ]
  },
  {
   "cell_type": "code",
   "execution_count": null,
   "id": "8643c184-bcac-4385-8083-fee92b713ffc",
   "metadata": {},
   "outputs": [],
   "source": []
  },
  {
   "cell_type": "markdown",
   "id": "eaaf5960-7df7-4077-923e-850488070e2e",
   "metadata": {},
   "source": [
    "2. Come up with some initial hypotheses based on your goal of predicting property value."
   ]
  },
  {
   "cell_type": "code",
   "execution_count": null,
   "id": "592578f5-d895-4234-a6b5-9d5009b4927a",
   "metadata": {},
   "outputs": [],
   "source": []
  },
  {
   "cell_type": "markdown",
   "id": "151e9939-3d41-40ee-8423-548f7fbdff2c",
   "metadata": {},
   "source": [
    "3. Visualize all combinations of variables in some way."
   ]
  },
  {
   "cell_type": "code",
   "execution_count": null,
   "id": "1acd517b-c0f8-42b9-a2d1-73e340b652ec",
   "metadata": {},
   "outputs": [],
   "source": []
  },
  {
   "cell_type": "markdown",
   "id": "7ee08c02-e628-4c37-a914-b2ece9ee9be7",
   "metadata": {},
   "source": [
    "4. Run the appropriate statistical tests where needed."
   ]
  },
  {
   "cell_type": "code",
   "execution_count": null,
   "id": "1dc0aca6-20aa-4666-a7f6-2e06de26db9b",
   "metadata": {},
   "outputs": [],
   "source": []
  },
  {
   "cell_type": "markdown",
   "id": "08d9d001-094b-4c68-b2f7-db49503fefea",
   "metadata": {},
   "source": [
    "5. What independent variables are correlated with the dependent variable, home value?"
   ]
  },
  {
   "cell_type": "code",
   "execution_count": null,
   "id": "4c93e123-258f-4eef-8428-0433aa8e1e1b",
   "metadata": {},
   "outputs": [],
   "source": []
  },
  {
   "cell_type": "markdown",
   "id": "abc527da-ad85-4a0b-8292-7bca73a6cb87",
   "metadata": {},
   "source": [
    "6. Which independent variables are correlated with other independent variables (bedrooms, bathrooms, year built, square feet)?"
   ]
  },
  {
   "cell_type": "code",
   "execution_count": null,
   "id": "3202a175-7434-46ac-a9b8-cdca92ce0069",
   "metadata": {},
   "outputs": [],
   "source": []
  },
  {
   "cell_type": "markdown",
   "id": "5f365c83-8f47-43c7-af68-ecea70dc70d9",
   "metadata": {},
   "source": [
    "7. Make sure to document your takeaways from visualizations and statistical tests as well as the decisions you make throughout your process."
   ]
  },
  {
   "cell_type": "code",
   "execution_count": null,
   "id": "acbc139d-5948-477c-8880-bf5d97b8e6d9",
   "metadata": {},
   "outputs": [],
   "source": []
  },
  {
   "cell_type": "code",
   "execution_count": null,
   "id": "511d4e73-3b8c-4607-a231-d7718a6b0915",
   "metadata": {},
   "outputs": [],
   "source": []
  }
 ],
 "metadata": {
  "kernelspec": {
   "display_name": "Python 3 (ipykernel)",
   "language": "python",
   "name": "python3"
  },
  "language_info": {
   "codemirror_mode": {
    "name": "ipython",
    "version": 3
   },
   "file_extension": ".py",
   "mimetype": "text/x-python",
   "name": "python",
   "nbconvert_exporter": "python",
   "pygments_lexer": "ipython3",
   "version": "3.9.7"
  }
 },
 "nbformat": 4,
 "nbformat_minor": 5
}
