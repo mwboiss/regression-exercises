{
 "cells": [
  {
   "cell_type": "markdown",
   "id": "edf8bcd0-531a-414b-bdd6-3dee8dca73ab",
   "metadata": {},
   "source": [
    "# Evaluating Regression Models Exercises"
   ]
  },
  {
   "cell_type": "code",
   "execution_count": 7,
   "id": "ab4eca1d-43c5-477b-a4b4-719007d37892",
   "metadata": {},
   "outputs": [],
   "source": [
    "import pandas as pd\n",
    "import numpy as np\n",
    "\n",
    "import seaborn as sns\n",
    "import matplotlib.pyplot as plt\n",
    "\n",
    "from scipy import stats\n",
    "from math import sqrt\n",
    "\n",
    "from sklearn.linear_model import LinearRegression\n",
    "from sklearn.feature_selection import f_regression\n",
    "from sklearn.metrics import mean_squared_error, r2_score, explained_variance_score\n",
    "\n",
    "import warnings\n",
    "warnings.filterwarnings('ignore')"
   ]
  },
  {
   "cell_type": "markdown",
   "id": "bdfcb58f-ea37-4e0e-a36d-6ffb16089c9d",
   "metadata": {},
   "source": [
    "1. Load the tips dataset from either pydataset or seaborn."
   ]
  },
  {
   "cell_type": "code",
   "execution_count": 16,
   "id": "1f99cc59-a6a0-463c-8b01-644a4a05bdab",
   "metadata": {},
   "outputs": [
    {
     "data": {
      "text/html": [
       "<div>\n",
       "<style scoped>\n",
       "    .dataframe tbody tr th:only-of-type {\n",
       "        vertical-align: middle;\n",
       "    }\n",
       "\n",
       "    .dataframe tbody tr th {\n",
       "        vertical-align: top;\n",
       "    }\n",
       "\n",
       "    .dataframe thead th {\n",
       "        text-align: right;\n",
       "    }\n",
       "</style>\n",
       "<table border=\"1\" class=\"dataframe\">\n",
       "  <thead>\n",
       "    <tr style=\"text-align: right;\">\n",
       "      <th></th>\n",
       "      <th>total_bill</th>\n",
       "      <th>tip</th>\n",
       "      <th>sex</th>\n",
       "      <th>smoker</th>\n",
       "      <th>day</th>\n",
       "      <th>time</th>\n",
       "      <th>size</th>\n",
       "    </tr>\n",
       "  </thead>\n",
       "  <tbody>\n",
       "    <tr>\n",
       "      <th>0</th>\n",
       "      <td>16.99</td>\n",
       "      <td>1.01</td>\n",
       "      <td>Female</td>\n",
       "      <td>No</td>\n",
       "      <td>Sun</td>\n",
       "      <td>Dinner</td>\n",
       "      <td>2</td>\n",
       "    </tr>\n",
       "    <tr>\n",
       "      <th>1</th>\n",
       "      <td>10.34</td>\n",
       "      <td>1.66</td>\n",
       "      <td>Male</td>\n",
       "      <td>No</td>\n",
       "      <td>Sun</td>\n",
       "      <td>Dinner</td>\n",
       "      <td>3</td>\n",
       "    </tr>\n",
       "    <tr>\n",
       "      <th>2</th>\n",
       "      <td>21.01</td>\n",
       "      <td>3.50</td>\n",
       "      <td>Male</td>\n",
       "      <td>No</td>\n",
       "      <td>Sun</td>\n",
       "      <td>Dinner</td>\n",
       "      <td>3</td>\n",
       "    </tr>\n",
       "    <tr>\n",
       "      <th>3</th>\n",
       "      <td>23.68</td>\n",
       "      <td>3.31</td>\n",
       "      <td>Male</td>\n",
       "      <td>No</td>\n",
       "      <td>Sun</td>\n",
       "      <td>Dinner</td>\n",
       "      <td>2</td>\n",
       "    </tr>\n",
       "    <tr>\n",
       "      <th>4</th>\n",
       "      <td>24.59</td>\n",
       "      <td>3.61</td>\n",
       "      <td>Female</td>\n",
       "      <td>No</td>\n",
       "      <td>Sun</td>\n",
       "      <td>Dinner</td>\n",
       "      <td>4</td>\n",
       "    </tr>\n",
       "  </tbody>\n",
       "</table>\n",
       "</div>"
      ],
      "text/plain": [
       "   total_bill   tip     sex smoker  day    time  size\n",
       "0       16.99  1.01  Female     No  Sun  Dinner     2\n",
       "1       10.34  1.66    Male     No  Sun  Dinner     3\n",
       "2       21.01  3.50    Male     No  Sun  Dinner     3\n",
       "3       23.68  3.31    Male     No  Sun  Dinner     2\n",
       "4       24.59  3.61  Female     No  Sun  Dinner     4"
      ]
     },
     "execution_count": 16,
     "metadata": {},
     "output_type": "execute_result"
    }
   ],
   "source": [
    "tips = sns.load_dataset('tips')\n",
    "tips.head()"
   ]
  },
  {
   "cell_type": "markdown",
   "id": "2aacef10-7d52-4177-a6ef-caf3185d0862",
   "metadata": {},
   "source": [
    "2. Fit a linear regression model (ordinary least squares) and compute yhat, predictions of tip using total_bill.\n",
    "\n",
    "Here is some sample code to get you started:"
   ]
  },
  {
   "cell_type": "code",
   "execution_count": 11,
   "id": "debd11e0-eb4a-4ad2-8f37-80df653f91a0",
   "metadata": {},
   "outputs": [],
   "source": [
    "# assuming X and y are already defined\n",
    "\n",
    "#model = LinearRegression().fit(X, y)\n",
    "#predictions = model.predict(X)\n",
    "\n",
    "# Modify and add to the code above as necessary for it to work with the tips dataset."
   ]
  },
  {
   "cell_type": "code",
   "execution_count": 40,
   "id": "88445dfb-9f91-4053-9d4d-7af642575763",
   "metadata": {},
   "outputs": [],
   "source": [
    "# Fit model\n",
    "x = tips[['total_bill']]\n",
    "y = tips[['tip']]\n",
    "\n",
    "model = LinearRegression().fit(x,y)\n",
    "tips['predictions'] = model.predict(x)"
   ]
  },
  {
   "cell_type": "code",
   "execution_count": 44,
   "id": "6f839605-246a-44b6-a771-ba0628697a52",
   "metadata": {},
   "outputs": [],
   "source": [
    "# Creating baseline\n",
    "baseline = tips.tip.mean()\n",
    "tips['baseline'] = baseline"
   ]
  },
  {
   "cell_type": "code",
   "execution_count": 42,
   "id": "e3f20a5b-5604-4f01-bc73-a55975c99269",
   "metadata": {},
   "outputs": [
    {
     "data": {
      "image/png": "[encoded data removed]",
      "text/plain": [
       "<Figure size 432x288 with 1 Axes>"
      ]
     },
     "metadata": {
      "needs_background": "light"
     },
     "output_type": "display_data"
    }
   ],
   "source": [
    "# Plot baseline\n",
    "plt.scatter(x=tips.total_bill,y=tips.tip)\n",
    "plt.axhline(baseline,ls=':')\n",
    "plt.xlabel('Total Bill')\n",
    "plt.ylabel('Tip')\n",
    "plt.title('Baseline Model')\n",
    "plt.show()"
   ]
  },
  {
   "cell_type": "markdown",
   "id": "c8ad5729-3f52-4bcf-8c04-90905a41d99c",
   "metadata": {},
   "source": [
    "3. Plot the residuals for the linear regression model that you made."
   ]
  },
  {
   "cell_type": "code",
   "execution_count": null,
   "id": "a944b247-66ad-41b3-9b37-aa84cd302549",
   "metadata": {},
   "outputs": [],
   "source": [
    "# Create Residual\n",
    "tips['residual'] = tips.predictions - tips.tip\n",
    "tips['residual_baseline'] = "
   ]
  },
  {
   "cell_type": "code",
   "execution_count": null,
   "id": "65687ee4-ed31-45df-b83e-02bfd49e83e7",
   "metadata": {},
   "outputs": [],
   "source": []
  },
  {
   "cell_type": "code",
   "execution_count": 43,
   "id": "5612ef11-7913-4ba2-b546-aada3fa535e0",
   "metadata": {},
   "outputs": [
    {
     "data": {
      "image/png": "[encoded data removed]",
      "text/plain": [
       "<Figure size 432x288 with 1 Axes>"
      ]
     },
     "metadata": {
      "needs_background": "light"
     },
     "output_type": "display_data"
    }
   ],
   "source": [
    "plt.scatter(x=tips.total_bill,y=tips.tip)\n",
    "plt.plot(tips.total_bill, tips.predictions)\n",
    "plt.xlabel('x= Total Bill')\n",
    "plt.ylabel('y = Tip')\n",
    "plt.title('OLS linear model')\n",
    "plt.show()"
   ]
  },
  {
   "cell_type": "markdown",
   "id": "8e69053b-a7bf-468c-8b99-a684da2399ff",
   "metadata": {},
   "source": [
    "4. Calculate the sum of squared errors, explained sum of squares, total sum of squares, mean squared error, and root mean squared error for your model."
   ]
  },
  {
   "cell_type": "code",
   "execution_count": null,
   "id": "c0c2b21e-9301-44a0-849e-ca663d895bdc",
   "metadata": {},
   "outputs": [],
   "source": []
  },
  {
   "cell_type": "markdown",
   "id": "9d80acb6-9c26-4fa9-9444-bb989e696d10",
   "metadata": {},
   "source": [
    "5. Calculate the sum of squared errors, mean squared error, and root mean squared error for the baseline model (i.e. a model that always predicts the average tip amount)."
   ]
  },
  {
   "cell_type": "code",
   "execution_count": null,
   "id": "f5790aa2-0944-451e-aa10-9449d272995c",
   "metadata": {},
   "outputs": [],
   "source": []
  },
  {
   "cell_type": "markdown",
   "id": "8a97cce1-ab60-4325-a7b7-2585384cabce",
   "metadata": {},
   "source": [
    "6. Write python code that compares the sum of squared errors for your model against the sum of squared errors for the baseline model and outputs whether or not your model performs better than the baseline model."
   ]
  },
  {
   "cell_type": "code",
   "execution_count": null,
   "id": "2575c8fa-6d40-4369-af2d-da243b4a894f",
   "metadata": {},
   "outputs": [],
   "source": []
  },
  {
   "cell_type": "markdown",
   "id": "2b991388-1734-4c3a-aea2-c848bac246a4",
   "metadata": {},
   "source": [
    "7. What is the amount of variance explained in your model?"
   ]
  },
  {
   "cell_type": "code",
   "execution_count": null,
   "id": "ee06dc42-4e69-4aa0-ad73-b53b370df7ab",
   "metadata": {},
   "outputs": [],
   "source": []
  },
  {
   "cell_type": "markdown",
   "id": "3649737b-6c72-438c-a24e-116e169d9aca",
   "metadata": {},
   "source": [
    "8. Is your model better than the baseline model?"
   ]
  },
  {
   "cell_type": "code",
   "execution_count": null,
   "id": "dd9ff0a1-1d6c-46d0-97a0-a1edc10a2c63",
   "metadata": {},
   "outputs": [],
   "source": []
  },
  {
   "cell_type": "markdown",
   "id": "70aebdf5-43a7-452c-bfc3-09c2e07ec956",
   "metadata": {},
   "source": [
    "9. Create a file named evaluate.py that contains the following functions.\n",
    "\n",
    "- plot_residuals(y, yhat): creates a residual plot\n",
    "- regression_errors(y, yhat): returns the following values:\n",
    "    - sum of squared errors (SSE)\n",
    "    - explained sum of squares (ESS)\n",
    "    - total sum of squares (TSS)\n",
    "    - mean squared error (MSE)\n",
    "    - root mean squared error (RMSE)\n",
    "- baseline_mean_errors(y): computes the SSE, MSE, and RMSE for the baseline model\n",
    "- better_than_baseline(y, yhat): returns true if your model performs better than the baseline, otherwise false"
   ]
  },
  {
   "cell_type": "code",
   "execution_count": null,
   "id": "ca415cca-7661-437f-bac6-20b28666d46c",
   "metadata": {},
   "outputs": [],
   "source": []
  },
  {
   "cell_type": "markdown",
   "id": "205a5dc3-3789-4be8-b6df-bd63346d48f0",
   "metadata": {},
   "source": [
    "10. Load the mpg dataset and fit a model that predicts highway mileage based on engine displacement. Take a look at all the regression evaluation metrics, and determine whether this model is better than the baseline model. Use the functions from your evaluate.py to help accomplish this."
   ]
  },
  {
   "cell_type": "code",
   "execution_count": null,
   "id": "9feb41d6-2479-4e4c-864a-892e90ed85f2",
   "metadata": {},
   "outputs": [],
   "source": []
  }
 ],
 "metadata": {
  "kernelspec": {
   "display_name": "Python 3 (ipykernel)",
   "language": "python",
   "name": "python3"
  },
  "language_info": {
   "codemirror_mode": {
    "name": "ipython",
    "version": 3
   },
   "file_extension": ".py",
   "mimetype": "text/x-python",
   "name": "python",
   "nbconvert_exporter": "python",
   "pygments_lexer": "ipython3",
   "version": "3.9.7"
  }
 },
 "nbformat": 4,
 "nbformat_minor": 5
}
