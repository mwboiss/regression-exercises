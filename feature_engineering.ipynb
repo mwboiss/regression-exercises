{
 "cells": [
  {
   "cell_type": "markdown",
   "id": "c59a2254-766c-47fa-8ae6-e95cc01b8dc9",
   "metadata": {},
   "source": [
    "# Feature Engineering Exercises"
   ]
  },
  {
   "cell_type": "markdown",
   "id": "62abb7eb-43e0-49d8-a6e1-9ee6c6bad9a4",
   "metadata": {},
   "source": [
    "1. Load the tips dataset."
   ]
  },
  {
   "cell_type": "code",
   "execution_count": null,
   "id": "9554996b-e1f2-41da-aae0-bd637c108235",
   "metadata": {},
   "outputs": [],
   "source": []
  },
  {
   "cell_type": "markdown",
   "id": "37416b4f-3935-47ec-8444-73d3c6d69437",
   "metadata": {},
   "source": [
    "a. Create a column named price_per_person. This should be the total bill divided by the party size.   "
   ]
  },
  {
   "cell_type": "code",
   "execution_count": null,
   "id": "182e66a0-8b35-4021-b884-2c865e11d4e9",
   "metadata": {},
   "outputs": [],
   "source": []
  },
  {
   "cell_type": "markdown",
   "id": "0deffc43-3490-4cc7-8821-3a51ebdf8750",
   "metadata": {},
   "source": [
    "b. Before using any of the methods discussed in the lesson, which features do you think would be most important for predicting the tip amount?  "
   ]
  },
  {
   "cell_type": "code",
   "execution_count": null,
   "id": "38db5661-0305-423d-8bfb-a9c3674acf23",
   "metadata": {},
   "outputs": [],
   "source": []
  },
  {
   "cell_type": "markdown",
   "id": "dcd299d6-41ad-4760-8add-63cf903a0bc0",
   "metadata": {},
   "source": [
    "c. Use select k best to select the top 2 features for predicting tip amount. What are they?\n",
    "    d. Use recursive feature elimination to select the top 2 features for tip amount. What are they?   "
   ]
  },
  {
   "cell_type": "code",
   "execution_count": null,
   "id": "590f6ebb-9eee-4e00-8188-4ae344af2075",
   "metadata": {},
   "outputs": [],
   "source": []
  },
  {
   "cell_type": "markdown",
   "id": "ae7c23bf-9b40-4700-9efe-56ab46be1fe1",
   "metadata": {},
   "source": [
    "e. Why do you think select k best and recursive feature elimination might give different answers for the top features? Does this change as you change the number of features your are selecting?"
   ]
  },
  {
   "cell_type": "code",
   "execution_count": null,
   "id": "f89fba4b-ff60-4077-9397-6b04befa9110",
   "metadata": {},
   "outputs": [],
   "source": []
  },
  {
   "cell_type": "markdown",
   "id": "80589014-682d-40d8-af3f-aff8ada13d34",
   "metadata": {},
   "source": [
    "2. Write a function named select_kbest that takes in the predictors (X), the target (y), and the number of features to select (k) and returns the names of the top k selected features based on the SelectKBest class. Test your function with the tips dataset. You should see the same results as when you did the process manually."
   ]
  },
  {
   "cell_type": "code",
   "execution_count": null,
   "id": "563986d7-8da5-4912-802e-a4c4f71aca9a",
   "metadata": {},
   "outputs": [],
   "source": []
  },
  {
   "cell_type": "markdown",
   "id": "dca4ee68-7988-43db-aeed-f0d72cae9fe8",
   "metadata": {},
   "source": [
    "3. Write a function named rfe that takes in the predictors, the target, and the number of features to select. It should return the top k features based on the RFE class. Test your function with the tips dataset. You should see the same results as when you did the process manually."
   ]
  },
  {
   "cell_type": "code",
   "execution_count": null,
   "id": "c7889724-0da5-4a27-ab06-8b7ad0b153e4",
   "metadata": {},
   "outputs": [],
   "source": []
  },
  {
   "cell_type": "markdown",
   "id": "5cd33769-8d4d-44e5-90b3-612584b2a600",
   "metadata": {},
   "source": [
    "4. Load the swiss dataset and use all the other features to predict Fertility. Find the top 3 features using both select k best and recursive feature elimination (use the functions you just built to help you out)."
   ]
  },
  {
   "cell_type": "code",
   "execution_count": null,
   "id": "f923ff8a-2e48-490c-98f2-615f2d4914fc",
   "metadata": {},
   "outputs": [],
   "source": []
  },
  {
   "cell_type": "markdown",
   "id": "385470d1-d563-4e74-85cb-3ba3522fb06d",
   "metadata": {},
   "source": [
    "# Appendix Exercises\n",
    "\n",
    "Our scenario continues:\n",
    "As a customer analyst, I want to know who has spent the most money with us over their lifetime. I have monthly charges and tenure, so I think I will be able to use those two attributes as features to estimate total_charges. I need to do this within an average of $5.00 per customer."
   ]
  },
  {
   "cell_type": "markdown",
   "id": "755ee15a-0410-4b4a-8e52-601e72a9d907",
   "metadata": {},
   "source": [
    "1. Write a function, select_kbest_freg() that takes X_train, y_train and k as input (X_train and y_train should not be scaled!) and returns a list of the top k features."
   ]
  },
  {
   "cell_type": "code",
   "execution_count": null,
   "id": "c7f459c7-03f3-4a18-9519-8de0a9b15869",
   "metadata": {},
   "outputs": [],
   "source": []
  },
  {
   "cell_type": "markdown",
   "id": "46b155f9-a86d-4ec9-8291-0f2b1050182a",
   "metadata": {},
   "source": [
    "2. Write a function, select_kbest_freg() that takes X_train, y_train (scaled) and k as input and returns a list of the top k features."
   ]
  },
  {
   "cell_type": "code",
   "execution_count": null,
   "id": "3d0c9b18-9ff4-46b7-b3e8-21793de5b5e3",
   "metadata": {},
   "outputs": [],
   "source": []
  },
  {
   "cell_type": "markdown",
   "id": "b628b0b2-baf7-4cd3-8432-d06026de5f3f",
   "metadata": {},
   "source": [
    "3. Write a function, ols_backware_elimination() that takes X_train and y_train (scaled) as input and returns selected features based on the ols backwards elimination method."
   ]
  },
  {
   "cell_type": "code",
   "execution_count": null,
   "id": "35547a19-a942-49b8-8cef-d03e96942eaa",
   "metadata": {},
   "outputs": [],
   "source": []
  },
  {
   "cell_type": "markdown",
   "id": "8d1f8af3-e0f3-48aa-b38b-bc17a33640b6",
   "metadata": {},
   "source": [
    "4. Write a function, lasso_cv_coef() that takes X_train and y_train as input and returns the coefficients for each feature, along with a plot of the features and their weights."
   ]
  },
  {
   "cell_type": "code",
   "execution_count": null,
   "id": "4a555137-cc42-48ba-87b3-c46244e3cb89",
   "metadata": {},
   "outputs": [],
   "source": []
  },
  {
   "cell_type": "markdown",
   "id": "07396542-c3de-445c-85ce-b19897c23b58",
   "metadata": {},
   "source": [
    "5. Write 3 functions, the first computes the number of optimum features (n) using rfe, the second takes n as input and returns the top n features, and the third takes the list of the top n features as input and returns a new X_train and X_test dataframe with those top features , recursive_feature_elimination() that computes the optimum number of features (n) and returns the top n features."
   ]
  },
  {
   "cell_type": "code",
   "execution_count": null,
   "id": "f94d01d5-899b-40e9-9f78-f72cb0841195",
   "metadata": {},
   "outputs": [],
   "source": []
  }
 ],
 "metadata": {
  "kernelspec": {
   "display_name": "Python 3 (ipykernel)",
   "language": "python",
   "name": "python3"
  },
  "language_info": {
   "codemirror_mode": {
    "name": "ipython",
    "version": 3
   },
   "file_extension": ".py",
   "mimetype": "text/x-python",
   "name": "python",
   "nbconvert_exporter": "python",
   "pygments_lexer": "ipython3",
   "version": "3.9.7"
  }
 },
 "nbformat": 4,
 "nbformat_minor": 5
}
