{
 "cells": [
  {
   "cell_type": "markdown",
   "id": "6c723da1-5546-4184-abd0-b08fbd98b34e",
   "metadata": {},
   "source": [
    "# Modeling Exercises"
   ]
  },
  {
   "cell_type": "markdown",
   "id": "22417e6c-0d23-4d22-9d34-50822ec4fca3",
   "metadata": {},
   "source": [
    "1. Select a dataset with a continuous target variable.\n",
    "\n",
    "2. Be sure your data is prepared (no missing values, numeric datatypes) and split into samples.\n",
    "\n",
    "3. Work through all of the steps outlined in the lesson, from setting the baseline to selecting a model and evaluating the final model on your test data."
   ]
  },
  {
   "cell_type": "code",
   "execution_count": null,
   "id": "f2fe7eff-8a06-4790-bbdc-622a5ede2926",
   "metadata": {},
   "outputs": [],
   "source": []
  }
 ],
 "metadata": {
  "kernelspec": {
   "display_name": "Python 3 (ipykernel)",
   "language": "python",
   "name": "python3"
  },
  "language_info": {
   "codemirror_mode": {
    "name": "ipython",
    "version": 3
   },
   "file_extension": ".py",
   "mimetype": "text/x-python",
   "name": "python",
   "nbconvert_exporter": "python",
   "pygments_lexer": "ipython3",
   "version": "3.9.7"
  }
 },
 "nbformat": 4,
 "nbformat_minor": 5
}
