{
 "cells": [
  {
   "cell_type": "markdown",
   "id": "6fe21f9a-5ab9-4d36-b8de-927c53c1ec51",
   "metadata": {},
   "source": [
    "## Scaling Numeric Data Exercises"
   ]
  },
  {
   "cell_type": "code",
   "execution_count": 72,
   "id": "7343711d-437d-43e3-a0b3-f30cba66e7b5",
   "metadata": {},
   "outputs": [],
   "source": [
    "# Imports for data manipulation\n",
    "import pandas as pd\n",
    "import numpy as np\n",
    "\n",
    "# Imports for exploration\n",
    "from matplotlib import pyplot as plt\n",
    "import seaborn as sns\n",
    "from scipy import stats\n",
    "\n",
    "#imports for spliting and scaling\n",
    "from sklearn import preprocessing\n",
    "from sklearn.model_selection import train_test_split\n",
    "\n",
    "#imports for acquisition and prep\n",
    "from wrangle import wrangle_zillow\n",
    "\n",
    "#import to silence warnings\n",
    "import warnings\n",
    "warnings.filterwarnings('ignore')\n",
    "\n",
    "#setting to view all the data \n",
    "pd.options.display.max_columns = None\n",
    "pd.options.display.max_rows = None"
   ]
  },
  {
   "cell_type": "code",
   "execution_count": 73,
   "id": "e3ce724b-ddd4-4a28-af75-1d57c76bce94",
   "metadata": {},
   "outputs": [
    {
     "name": "stdout",
     "output_type": "stream",
     "text": [
      "Using cached csv file...\n"
     ]
    },
    {
     "data": {
      "text/html": [
       "<div>\n",
       "<style scoped>\n",
       "    .dataframe tbody tr th:only-of-type {\n",
       "        vertical-align: middle;\n",
       "    }\n",
       "\n",
       "    .dataframe tbody tr th {\n",
       "        vertical-align: top;\n",
       "    }\n",
       "\n",
       "    .dataframe thead th {\n",
       "        text-align: right;\n",
       "    }\n",
       "</style>\n",
       "<table border=\"1\" class=\"dataframe\">\n",
       "  <thead>\n",
       "    <tr style=\"text-align: right;\">\n",
       "      <th></th>\n",
       "      <th>bedrooms</th>\n",
       "      <th>bathrooms</th>\n",
       "      <th>area</th>\n",
       "      <th>taxable_value</th>\n",
       "      <th>year_built</th>\n",
       "      <th>tax_amount</th>\n",
       "      <th>county</th>\n",
       "      <th>county_los_angeles_ca</th>\n",
       "      <th>county_orange_ca</th>\n",
       "      <th>county_ventura_ca</th>\n",
       "    </tr>\n",
       "  </thead>\n",
       "  <tbody>\n",
       "    <tr>\n",
       "      <th>4</th>\n",
       "      <td>4.0</td>\n",
       "      <td>2.0</td>\n",
       "      <td>3633.0</td>\n",
       "      <td>296425.0</td>\n",
       "      <td>2005.0</td>\n",
       "      <td>6941.39</td>\n",
       "      <td>los_angeles_ca</td>\n",
       "      <td>1</td>\n",
       "      <td>0</td>\n",
       "      <td>0</td>\n",
       "    </tr>\n",
       "    <tr>\n",
       "      <th>6</th>\n",
       "      <td>3.0</td>\n",
       "      <td>4.0</td>\n",
       "      <td>1620.0</td>\n",
       "      <td>847770.0</td>\n",
       "      <td>2011.0</td>\n",
       "      <td>10244.94</td>\n",
       "      <td>los_angeles_ca</td>\n",
       "      <td>1</td>\n",
       "      <td>0</td>\n",
       "      <td>0</td>\n",
       "    </tr>\n",
       "    <tr>\n",
       "      <th>7</th>\n",
       "      <td>3.0</td>\n",
       "      <td>2.0</td>\n",
       "      <td>2077.0</td>\n",
       "      <td>646760.0</td>\n",
       "      <td>1926.0</td>\n",
       "      <td>7924.68</td>\n",
       "      <td>los_angeles_ca</td>\n",
       "      <td>1</td>\n",
       "      <td>0</td>\n",
       "      <td>0</td>\n",
       "    </tr>\n",
       "    <tr>\n",
       "      <th>11</th>\n",
       "      <td>0.0</td>\n",
       "      <td>0.0</td>\n",
       "      <td>1200.0</td>\n",
       "      <td>5328.0</td>\n",
       "      <td>1972.0</td>\n",
       "      <td>91.60</td>\n",
       "      <td>los_angeles_ca</td>\n",
       "      <td>1</td>\n",
       "      <td>0</td>\n",
       "      <td>0</td>\n",
       "    </tr>\n",
       "    <tr>\n",
       "      <th>14</th>\n",
       "      <td>0.0</td>\n",
       "      <td>0.0</td>\n",
       "      <td>171.0</td>\n",
       "      <td>6920.0</td>\n",
       "      <td>1973.0</td>\n",
       "      <td>255.17</td>\n",
       "      <td>los_angeles_ca</td>\n",
       "      <td>1</td>\n",
       "      <td>0</td>\n",
       "      <td>0</td>\n",
       "    </tr>\n",
       "  </tbody>\n",
       "</table>\n",
       "</div>"
      ],
      "text/plain": [
       "    bedrooms  bathrooms    area  taxable_value  year_built  tax_amount  \\\n",
       "4        4.0        2.0  3633.0       296425.0      2005.0     6941.39   \n",
       "6        3.0        4.0  1620.0       847770.0      2011.0    10244.94   \n",
       "7        3.0        2.0  2077.0       646760.0      1926.0     7924.68   \n",
       "11       0.0        0.0  1200.0         5328.0      1972.0       91.60   \n",
       "14       0.0        0.0   171.0         6920.0      1973.0      255.17   \n",
       "\n",
       "            county  county_los_angeles_ca  county_orange_ca  county_ventura_ca  \n",
       "4   los_angeles_ca                      1                 0                  0  \n",
       "6   los_angeles_ca                      1                 0                  0  \n",
       "7   los_angeles_ca                      1                 0                  0  \n",
       "11  los_angeles_ca                      1                 0                  0  \n",
       "14  los_angeles_ca                      1                 0                  0  "
      ]
     },
     "execution_count": 73,
     "metadata": {},
     "output_type": "execute_result"
    }
   ],
   "source": [
    "# collect data\n",
    "zillow = wrangle_zillow()\n",
    "zillow.head()"
   ]
  },
  {
   "cell_type": "code",
   "execution_count": 74,
   "id": "1f0e253a-eefa-4965-9936-c9a849228c4e",
   "metadata": {},
   "outputs": [],
   "source": [
    "# split data into train, test, split\n",
    "x_train_val , x_test = train_test_split(zillow , random_state=1729)\n",
    "x_train, x_validate = train_test_split(x_train_val, random_state=1729)"
   ]
  },
  {
   "cell_type": "markdown",
   "id": "af3fe8ed-bb49-4543-b43e-fee51e6c1210",
   "metadata": {},
   "source": [
    "1) Apply the scalers we talked about in this lesson to your data and visualize the results for the unscaled and scaled distribution .\n"
   ]
  },
  {
   "cell_type": "code",
   "execution_count": 75,
   "id": "21720e9d-ace7-4dfc-b246-47ba93d47f82",
   "metadata": {},
   "outputs": [
    {
     "data": {
      "text/html": [
       "<div>\n",
       "<style scoped>\n",
       "    .dataframe tbody tr th:only-of-type {\n",
       "        vertical-align: middle;\n",
       "    }\n",
       "\n",
       "    .dataframe tbody tr th {\n",
       "        vertical-align: top;\n",
       "    }\n",
       "\n",
       "    .dataframe thead th {\n",
       "        text-align: right;\n",
       "    }\n",
       "</style>\n",
       "<table border=\"1\" class=\"dataframe\">\n",
       "  <thead>\n",
       "    <tr style=\"text-align: right;\">\n",
       "      <th></th>\n",
       "      <th>bedrooms</th>\n",
       "      <th>bathrooms</th>\n",
       "      <th>area</th>\n",
       "      <th>taxable_value</th>\n",
       "      <th>year_built</th>\n",
       "      <th>tax_amount</th>\n",
       "      <th>county</th>\n",
       "      <th>county_los_angeles_ca</th>\n",
       "      <th>county_orange_ca</th>\n",
       "      <th>county_ventura_ca</th>\n",
       "    </tr>\n",
       "  </thead>\n",
       "  <tbody>\n",
       "    <tr>\n",
       "      <th>1234956</th>\n",
       "      <td>4.0</td>\n",
       "      <td>3.0</td>\n",
       "      <td>2201.0</td>\n",
       "      <td>923727.0</td>\n",
       "      <td>1986.0</td>\n",
       "      <td>10665.41</td>\n",
       "      <td>los_angeles_ca</td>\n",
       "      <td>1</td>\n",
       "      <td>0</td>\n",
       "      <td>0</td>\n",
       "    </tr>\n",
       "    <tr>\n",
       "      <th>1063371</th>\n",
       "      <td>4.0</td>\n",
       "      <td>3.0</td>\n",
       "      <td>2348.0</td>\n",
       "      <td>388018.0</td>\n",
       "      <td>1965.0</td>\n",
       "      <td>4442.00</td>\n",
       "      <td>orange_ca</td>\n",
       "      <td>0</td>\n",
       "      <td>1</td>\n",
       "      <td>0</td>\n",
       "    </tr>\n",
       "    <tr>\n",
       "      <th>827142</th>\n",
       "      <td>4.0</td>\n",
       "      <td>3.0</td>\n",
       "      <td>2119.0</td>\n",
       "      <td>439268.0</td>\n",
       "      <td>1965.0</td>\n",
       "      <td>5119.46</td>\n",
       "      <td>orange_ca</td>\n",
       "      <td>0</td>\n",
       "      <td>1</td>\n",
       "      <td>0</td>\n",
       "    </tr>\n",
       "    <tr>\n",
       "      <th>1456708</th>\n",
       "      <td>3.0</td>\n",
       "      <td>3.0</td>\n",
       "      <td>1401.0</td>\n",
       "      <td>733284.0</td>\n",
       "      <td>1956.0</td>\n",
       "      <td>8769.95</td>\n",
       "      <td>los_angeles_ca</td>\n",
       "      <td>1</td>\n",
       "      <td>0</td>\n",
       "      <td>0</td>\n",
       "    </tr>\n",
       "    <tr>\n",
       "      <th>1753341</th>\n",
       "      <td>2.0</td>\n",
       "      <td>1.0</td>\n",
       "      <td>1019.0</td>\n",
       "      <td>516713.0</td>\n",
       "      <td>1925.0</td>\n",
       "      <td>5685.88</td>\n",
       "      <td>orange_ca</td>\n",
       "      <td>0</td>\n",
       "      <td>1</td>\n",
       "      <td>0</td>\n",
       "    </tr>\n",
       "  </tbody>\n",
       "</table>\n",
       "</div>"
      ],
      "text/plain": [
       "         bedrooms  bathrooms    area  taxable_value  year_built  tax_amount  \\\n",
       "1234956       4.0        3.0  2201.0       923727.0      1986.0    10665.41   \n",
       "1063371       4.0        3.0  2348.0       388018.0      1965.0     4442.00   \n",
       "827142        4.0        3.0  2119.0       439268.0      1965.0     5119.46   \n",
       "1456708       3.0        3.0  1401.0       733284.0      1956.0     8769.95   \n",
       "1753341       2.0        1.0  1019.0       516713.0      1925.0     5685.88   \n",
       "\n",
       "                 county  county_los_angeles_ca  county_orange_ca  \\\n",
       "1234956  los_angeles_ca                      1                 0   \n",
       "1063371       orange_ca                      0                 1   \n",
       "827142        orange_ca                      0                 1   \n",
       "1456708  los_angeles_ca                      1                 0   \n",
       "1753341       orange_ca                      0                 1   \n",
       "\n",
       "         county_ventura_ca  \n",
       "1234956                  0  \n",
       "1063371                  0  \n",
       "827142                   0  \n",
       "1456708                  0  \n",
       "1753341                  0  "
      ]
     },
     "execution_count": 75,
     "metadata": {},
     "output_type": "execute_result"
    }
   ],
   "source": [
    "# view train dataset\n",
    "x_train.head()"
   ]
  },
  {
   "cell_type": "code",
   "execution_count": 76,
   "id": "1b3ca936-e4da-42bb-b26b-f3a1d6514e05",
   "metadata": {},
   "outputs": [
    {
     "data": {
      "text/html": [
       "<div>\n",
       "<style scoped>\n",
       "    .dataframe tbody tr th:only-of-type {\n",
       "        vertical-align: middle;\n",
       "    }\n",
       "\n",
       "    .dataframe tbody tr th {\n",
       "        vertical-align: top;\n",
       "    }\n",
       "\n",
       "    .dataframe thead th {\n",
       "        text-align: right;\n",
       "    }\n",
       "</style>\n",
       "<table border=\"1\" class=\"dataframe\">\n",
       "  <thead>\n",
       "    <tr style=\"text-align: right;\">\n",
       "      <th></th>\n",
       "      <th>tax_amount</th>\n",
       "    </tr>\n",
       "  </thead>\n",
       "  <tbody>\n",
       "    <tr>\n",
       "      <th>1234956</th>\n",
       "      <td>10665.41</td>\n",
       "    </tr>\n",
       "    <tr>\n",
       "      <th>1063371</th>\n",
       "      <td>4442.00</td>\n",
       "    </tr>\n",
       "    <tr>\n",
       "      <th>827142</th>\n",
       "      <td>5119.46</td>\n",
       "    </tr>\n",
       "    <tr>\n",
       "      <th>1456708</th>\n",
       "      <td>8769.95</td>\n",
       "    </tr>\n",
       "    <tr>\n",
       "      <th>1753341</th>\n",
       "      <td>5685.88</td>\n",
       "    </tr>\n",
       "  </tbody>\n",
       "</table>\n",
       "</div>"
      ],
      "text/plain": [
       "         tax_amount\n",
       "1234956    10665.41\n",
       "1063371     4442.00\n",
       "827142      5119.46\n",
       "1456708     8769.95\n",
       "1753341     5685.88"
      ]
     },
     "execution_count": 76,
     "metadata": {},
     "output_type": "execute_result"
    }
   ],
   "source": [
    "# view tax amount\n",
    "x_train_tax = x_train[['tax_amount']]\n",
    "x_train_tax.head()"
   ]
  },
  {
   "cell_type": "code",
   "execution_count": 77,
   "id": "1cdf8bb6-3bc5-46e7-bc51-5b3437169959",
   "metadata": {},
   "outputs": [
    {
     "data": {
      "text/plain": [
       "Text(0.5, 1.0, 'MinMax Scaled')"
      ]
     },
     "execution_count": 77,
     "metadata": {},
     "output_type": "execute_result"
    },
    {
     "data": {
      "image/png": "[encoded data removed]",
      "text/plain": [
       "<Figure size 936x432 with 2 Axes>"
      ]
     },
     "metadata": {
      "needs_background": "light"
     },
     "output_type": "display_data"
    }
   ],
   "source": [
    "# MinMax Scaler\n",
    "\n",
    "# Create \n",
    "minmax = sklearn.preprocessing.MinMaxScaler()\n",
    "minmax.fit(x_train_tax)\n",
    "\n",
    "x_train_minmax = minmax.transform(x_train_tax)\n",
    "\n",
    "plt.figure(figsize=(13, 6))\n",
    "plt.subplot(121)\n",
    "plt.hist(x_train_tax, bins=25, ec='black')\n",
    "plt.title('Original')\n",
    "plt.subplot(122)\n",
    "plt.hist(x_train_minmax, bins=25, ec='black')\n",
    "plt.title('MinMax Scaled')"
   ]
  },
  {
   "cell_type": "code",
   "execution_count": 78,
   "id": "14a64c29-f62d-4b3e-a0ab-3dfe32a9a602",
   "metadata": {},
   "outputs": [
    {
     "data": {
      "text/plain": [
       "Text(0.5, 1.0, 'Standard Scaled')"
      ]
     },
     "execution_count": 78,
     "metadata": {},
     "output_type": "execute_result"
    },
    {
     "data": {
      "image/png": "[encoded data removed]",
      "text/plain": [
       "<Figure size 936x432 with 2 Axes>"
      ]
     },
     "metadata": {
      "needs_background": "light"
     },
     "output_type": "display_data"
    }
   ],
   "source": [
    "# Standard Scaler\n",
    "standard = sklearn.preprocessing.StandardScaler()\n",
    "standard.fit(x_train_tax)\n",
    "\n",
    "x_train_standard = standard.transform(x_train_tax)\n",
    "\n",
    "plt.figure(figsize=(13, 6))\n",
    "plt.subplot(121)\n",
    "plt.hist(x_train_tax, bins=25, ec='black')\n",
    "plt.title('Original')\n",
    "plt.subplot(122)\n",
    "plt.hist(x_train_standard, bins=25, ec='black')\n",
    "plt.title('Standard Scaled')"
   ]
  },
  {
   "cell_type": "code",
   "execution_count": 79,
   "id": "93ce36ee-2722-478f-89e0-6de4ebd180b6",
   "metadata": {},
   "outputs": [
    {
     "data": {
      "text/plain": [
       "Text(0.5, 1.0, 'Robust Scaled')"
      ]
     },
     "execution_count": 79,
     "metadata": {},
     "output_type": "execute_result"
    },
    {
     "data": {
      "image/png": "[encoded data removed]",
      "text/plain": [
       "<Figure size 936x432 with 2 Axes>"
      ]
     },
     "metadata": {
      "needs_background": "light"
     },
     "output_type": "display_data"
    }
   ],
   "source": [
    "# Robust Scaler\n",
    "robust = sklearn.preprocessing.RobustScaler()\n",
    "robust.fit(x_train_tax)\n",
    "\n",
    "x_train_robust = robust.transform(x_train_tax)\n",
    "\n",
    "plt.figure(figsize=(13, 6))\n",
    "\n",
    "plt.subplot(121)\n",
    "plt.hist(x_train_tax, bins=25, ec='black')\n",
    "plt.title('Original')\n",
    "\n",
    "plt.subplot(122)\n",
    "plt.hist(x_train_robust, bins=25, ec='black')\n",
    "plt.title('Robust Scaled')"
   ]
  },
  {
   "cell_type": "markdown",
   "id": "a14f1d08-3c09-4833-8865-a61f8fbff5bf",
   "metadata": {},
   "source": [
    "2) Apply the .inverse_transform method to your scaled data. Is the resulting dataset the exact same as the original data?\n"
   ]
  },
  {
   "cell_type": "code",
   "execution_count": 99,
   "id": "8a4055fa-6059-451f-9ecb-f8a005770edc",
   "metadata": {},
   "outputs": [
    {
     "data": {
      "text/plain": [
       "(          0\n",
       " 0  10665.41\n",
       " 1   4442.00\n",
       " 2   5119.46\n",
       " 3   8769.95\n",
       " 4   5685.88,\n",
       "          tax_amount\n",
       " 1234956    10665.41\n",
       " 1063371     4442.00\n",
       " 827142      5119.46\n",
       " 1456708     8769.95\n",
       " 1753341     5685.88)"
      ]
     },
     "execution_count": 99,
     "metadata": {},
     "output_type": "execute_result"
    }
   ],
   "source": [
    "inverse_minmax = pd.DataFrame(minmax.inverse_transform(x_train_minmax))\n",
    "inverse_minmax.head(), x_train_tax.head()"
   ]
  },
  {
   "cell_type": "code",
   "execution_count": 100,
   "id": "c04f5006-b41f-4563-b316-cefcff540530",
   "metadata": {},
   "outputs": [
    {
     "data": {
      "text/plain": [
       "(          0\n",
       " 0  10665.41\n",
       " 1   4442.00\n",
       " 2   5119.46\n",
       " 3   8769.95\n",
       " 4   5685.88,\n",
       "          tax_amount\n",
       " 1234956    10665.41\n",
       " 1063371     4442.00\n",
       " 827142      5119.46\n",
       " 1456708     8769.95\n",
       " 1753341     5685.88)"
      ]
     },
     "execution_count": 100,
     "metadata": {},
     "output_type": "execute_result"
    }
   ],
   "source": [
    "inverse_standard = pd.DataFrame(standard.inverse_transform(x_train_standard))\n",
    "inverse_standard.head(), x_train_tax.head()"
   ]
  },
  {
   "cell_type": "code",
   "execution_count": 101,
   "id": "a1db70c3-69d9-4767-865d-157ea7cca88c",
   "metadata": {},
   "outputs": [
    {
     "data": {
      "text/plain": [
       "(          0\n",
       " 0  10665.41\n",
       " 1   4442.00\n",
       " 2   5119.46\n",
       " 3   8769.95\n",
       " 4   5685.88,\n",
       "          tax_amount\n",
       " 1234956    10665.41\n",
       " 1063371     4442.00\n",
       " 827142      5119.46\n",
       " 1456708     8769.95\n",
       " 1753341     5685.88)"
      ]
     },
     "execution_count": 101,
     "metadata": {},
     "output_type": "execute_result"
    }
   ],
   "source": [
    "inverse_robust = pd.DataFrame(robust.inverse_transform(x_train_robust))\n",
    "inverse_robust.head(), x_train_tax.head()"
   ]
  },
  {
   "cell_type": "code",
   "execution_count": 126,
   "id": "463a2d89-ff9b-4c4f-9ddb-893921a45e9e",
   "metadata": {},
   "outputs": [
    {
     "name": "stdout",
     "output_type": "stream",
     "text": [
      "Exact match: tax_amount    False\n",
      "dtype: bool\n",
      "\n",
      "Close match: True\n"
     ]
    }
   ],
   "source": [
    "# Pulled from scaling exercise review and fit to my data\n",
    "print(f'Exact match: {(minmax.inverse_transform(x_train_minmax) == x_train_tax).all()}\\n\\n\\\n",
    "Close match: {np.isclose(minmax.inverse_transform(x_train_minmax), x_train_tax).all()}')"
   ]
  },
  {
   "cell_type": "markdown",
   "id": "dddcb9a7-9961-4efa-b6e0-2be510cc603b",
   "metadata": {},
   "source": [
    "- Just by looking at the first 5 they look the same. When comparing exactly they are not. When comparing with np.isclose they are pretty much the same."
   ]
  },
  {
   "cell_type": "markdown",
   "id": "bec3ce15-4836-485b-a4c3-60bfae0ef7f8",
   "metadata": {},
   "source": [
    "3) Read the documentation for sklearn's QuantileTransformer. Use normal for the output_distribution and apply this scaler to your data. Visualize the result of your data scaling.\n"
   ]
  },
  {
   "cell_type": "code",
   "execution_count": 103,
   "id": "f3fc6839-9929-4443-9001-a2be69b05f9c",
   "metadata": {},
   "outputs": [
    {
     "data": {
      "text/plain": [
       "Text(0.5, 1.0, 'Quantile Scaled')"
      ]
     },
     "execution_count": 103,
     "metadata": {},
     "output_type": "execute_result"
    },
    {
     "data": {
      "image/png": "[encoded data removed]",
      "text/plain": [
       "<Figure size 936x432 with 2 Axes>"
      ]
     },
     "metadata": {
      "needs_background": "light"
     },
     "output_type": "display_data"
    }
   ],
   "source": [
    "# Quantile Transformer\n",
    "quan = sklearn.preprocessing.QuantileTransformer(output_distribution='normal')\n",
    "quan.fit(x_train_tax)\n",
    "\n",
    "x_train_quan = quan.transform(x_train_tax)\n",
    "\n",
    "plt.figure(figsize=(13, 6))\n",
    "plt.subplot(121)\n",
    "plt.hist(x_train_tax, bins=25, ec='black')\n",
    "plt.title('Original')\n",
    "plt.subplot(122)\n",
    "plt.hist(x_train_quan, bins=25, ec='black')\n",
    "plt.title('Quantile Scaled')"
   ]
  },
  {
   "cell_type": "markdown",
   "id": "1abd4a22-ff0b-4387-a18d-919709b73ff6",
   "metadata": {},
   "source": [
    "4) Use the QuantileTransformer, but omit the output_distribution argument. Visualize your results. What do you notice?\n"
   ]
  },
  {
   "cell_type": "code",
   "execution_count": 104,
   "id": "fec1bb60-b81a-489d-ae9d-7138e058d69d",
   "metadata": {},
   "outputs": [
    {
     "data": {
      "text/plain": [
       "Text(0.5, 1.0, 'Quantile Scaled')"
      ]
     },
     "execution_count": 104,
     "metadata": {},
     "output_type": "execute_result"
    },
    {
     "data": {
      "image/png": "[encoded data removed]",
      "text/plain": [
       "<Figure size 936x432 with 2 Axes>"
      ]
     },
     "metadata": {
      "needs_background": "light"
     },
     "output_type": "display_data"
    }
   ],
   "source": [
    "# Quantile Transformer\n",
    "quan = sklearn.preprocessing.QuantileTransformer()\n",
    "quan.fit(x_train_tax)\n",
    "\n",
    "x_train_quan = quan.transform(x_train_tax)\n",
    "\n",
    "plt.figure(figsize=(13, 6))\n",
    "plt.subplot(121)\n",
    "plt.hist(x_train_tax, bins=25, ec='black')\n",
    "plt.title('Original')\n",
    "plt.subplot(122)\n",
    "plt.hist(x_train_quan, bins=25, ec='black')\n",
    "plt.title('Quantile Scaled')"
   ]
  },
  {
   "cell_type": "markdown",
   "id": "210f74b0-0e1d-483e-89ec-83c0cde77107",
   "metadata": {},
   "source": [
    "- The scaling range was different which was needed to change the distribution from normal to uniform."
   ]
  },
  {
   "cell_type": "markdown",
   "id": "56149935-afbe-4f9a-bd16-e619213ee476",
   "metadata": {},
   "source": [
    "5) Based on the work you've done, choose a scaling method for your dataset. Write a function within your prepare.py that accepts as input the train, validate, and test data splits, and returns the scaled versions of each. Be sure to only learn the parameters for scaling from your training data!"
   ]
  },
  {
   "cell_type": "code",
   "execution_count": 127,
   "id": "762afa3e-a863-44a4-b71e-fd989e608425",
   "metadata": {},
   "outputs": [],
   "source": [
    "def scale_data(train, validate, test, return_scaler=False):\n",
    "    '''\n",
    "    This function scales the split data and returns a scaled version of the dataset.\n",
    "    \n",
    "    If return_scaler is true, the scaler will be returned as well.\n",
    "    '''\n",
    "    \n",
    "    col = train.columns[train.dtypes == 'float']\n",
    "\n",
    "    train_scaled = train\n",
    "    validate_scaled = validate\n",
    "    test_scaled = test\n",
    "\n",
    "    scaler = sklearn.preprocessing.MinMaxScaler()\n",
    "    scaler.fit(train[col])\n",
    "    \n",
    "    train_scaled[col] = scaler.transform(train[col])\n",
    "    validate_scaled[col] = scaler.transform(validate[col])\n",
    "    test_scaled[col] = scaler.transform(test[col])\n",
    "    \n",
    "    if return_scaler:\n",
    "        return train_scaled, validate_scaled, test_scaled, scaler\n",
    "    else:\n",
    "        return train_scaled, validate_scaled, test_scaled"
   ]
  },
  {
   "cell_type": "code",
   "execution_count": null,
   "id": "3fd71318-a7c5-4de3-b60a-76dc5aeede37",
   "metadata": {},
   "outputs": [],
   "source": []
  },
  {
   "cell_type": "code",
   "execution_count": null,
   "id": "d11ce666-fe92-4143-977c-620aa5e51f26",
   "metadata": {},
   "outputs": [],
   "source": []
  }
 ],
 "metadata": {
  "kernelspec": {
   "display_name": "Python 3 (ipykernel)",
   "language": "python",
   "name": "python3"
  },
  "language_info": {
   "codemirror_mode": {
    "name": "ipython",
    "version": 3
   },
   "file_extension": ".py",
   "mimetype": "text/x-python",
   "name": "python",
   "nbconvert_exporter": "python",
   "pygments_lexer": "ipython3",
   "version": "3.9.7"
  }
 },
 "nbformat": 4,
 "nbformat_minor": 5
}
