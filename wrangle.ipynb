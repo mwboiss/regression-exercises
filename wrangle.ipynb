{
 "cells": [
  {
   "cell_type": "markdown",
   "id": "1d3141d7-2f1c-402f-b980-286c73af2e28",
   "metadata": {},
   "source": [
    "# Acquisition and Prep For Regression"
   ]
  },
  {
   "cell_type": "code",
   "execution_count": 1,
   "id": "d39a2ad0-d27c-45f8-a433-c879e428d64c",
   "metadata": {},
   "outputs": [],
   "source": [
    "# Imports for data manipulation and exploration\n",
    "import pandas as pd\n",
    "import numpy as np\n",
    "import matplotlib.pyplot as plt\n",
    "import seaborn as sns\n",
    "from env import get_db_url\n",
    "import os\n",
    "import warnings\n",
    "warnings.filterwarnings('ignore')\n",
    "pd.options.display.max_columns = None\n",
    "pd.options.display.max_rows = None"
   ]
  },
  {
   "cell_type": "code",
   "execution_count": 2,
   "id": "8b17fc7e-0766-4142-a8d6-97921f1f6738",
   "metadata": {
    "tags": []
   },
   "outputs": [],
   "source": [
    "def get_zillow_data(use_cache=True):\n",
    "    '''\n",
    "    Function to collect zillow data. Checks for copy and if \n",
    "    not present then pulls from mySQL\n",
    "    '''\n",
    "    \n",
    "    # Assign filename\n",
    "    filename = 'zillow.csv'\n",
    "    \n",
    "    # Check if file exists\n",
    "    if os.path.exists(filename) and use_cache:\n",
    "        print('Using cached csv file...')\n",
    "        return pd.read_csv(filename)\n",
    "    \n",
    "    # Notify user of next step\n",
    "    print('Getting a fresh copy from the database...')\n",
    "    \n",
    "    # Assign url\n",
    "    url = get_db_url('zillow')\n",
    "    \n",
    "    # Run query for data\n",
    "    zillow_data = pd.read_sql('''\n",
    "    SELECT bedroomcnt,\\\n",
    "    bathroomcnt,\\\n",
    "    calculatedfinishedsquarefeet as finishedsquareft,\\\n",
    "    taxvaluedollarcnt,\\\n",
    "    yearbuilt,\\\n",
    "    taxamount,\\\n",
    "    fips\n",
    "    FROM properties_2017\n",
    "    LEFT JOIN propertylandusetype\n",
    "    USING(propertylandusetypeid)\n",
    "    WHERE propertylandusetypeid = 261 OR propertylandusetypeid = 279\n",
    "    ''', url)\n",
    "    \n",
    "    # Notify user of next step\n",
    "    print('Saving to csv...')\n",
    "    \n",
    "    # Create csv\n",
    "    zillow_data.to_csv(filename, index=False)\n",
    "    \n",
    "    # Return DataFrame\n",
    "    return zillow_data"
   ]
  },
  {
   "cell_type": "code",
   "execution_count": 3,
   "id": "e9f57680-19f0-450d-a4d5-6f6f46e3b190",
   "metadata": {},
   "outputs": [
    {
     "name": "stdout",
     "output_type": "stream",
     "text": [
      "Using cached csv file...\n"
     ]
    }
   ],
   "source": [
    "# Collect and store data in csv and dataframe\n",
    "zillow = get_zillow_data()\n",
    "# zillow.head()"
   ]
  },
  {
   "cell_type": "code",
   "execution_count": 31,
   "id": "80d39575-f437-407f-a12f-96bdb97a8414",
   "metadata": {
    "tags": []
   },
   "outputs": [],
   "source": [
    "# explore size of df \n",
    "# zillow.shape"
   ]
  },
  {
   "cell_type": "markdown",
   "id": "2a999e78-163e-4990-9d29-1bb13de41066",
   "metadata": {},
   "source": [
    "7 columns with 2,152,864 rows"
   ]
  },
  {
   "cell_type": "code",
   "execution_count": 32,
   "id": "543a845c-e170-47ca-9762-fd2dea763c06",
   "metadata": {
    "tags": []
   },
   "outputs": [],
   "source": [
    "# Summary Statistics for data. \n",
    "# zillow.describe().T"
   ]
  },
  {
   "cell_type": "markdown",
   "id": "e222acc2-67ac-4a7a-b31d-2424f3f5e86f",
   "metadata": {},
   "source": [
    "Counts are not consistent."
   ]
  },
  {
   "cell_type": "code",
   "execution_count": 33,
   "id": "9ec2c000-3c78-4c7f-8112-724e695969b3",
   "metadata": {
    "tags": []
   },
   "outputs": [],
   "source": [
    "# Explore datatypes of each variable. \n",
    "# zillow.info()"
   ]
  },
  {
   "cell_type": "markdown",
   "id": "e78ec446-4975-4fdf-9483-2278157fc389",
   "metadata": {},
   "source": [
    "Everything is a float."
   ]
  },
  {
   "cell_type": "markdown",
   "id": "603bcc3a-aa7a-406b-927b-74e9a2b745a3",
   "metadata": {
    "tags": []
   },
   "source": [
    "#### Acquire and Summarize Takeaways\n",
    "\n",
    "Counts do not seem consistent. Lots of NaN values. Lots of zero values. Looking at the jump in quartiles there could be possible outliers on the high end.\n"
   ]
  },
  {
   "cell_type": "markdown",
   "id": "0d1db928-8067-4745-bef3-7fce487e03d0",
   "metadata": {},
   "source": [
    "### Explore Nulls and variable structure"
   ]
  },
  {
   "cell_type": "code",
   "execution_count": 34,
   "id": "0dfefc6a-51b2-47c2-80c6-c1e7a5d8de47",
   "metadata": {
    "tags": []
   },
   "outputs": [],
   "source": [
    "# Explore nulls in values\n",
    "# zillow.isnull().sum()"
   ]
  },
  {
   "cell_type": "markdown",
   "id": "1ba57a37-763b-432c-8372-e8cd05fd7db9",
   "metadata": {},
   "source": [
    "Nulls makeup a small percentage of total values. Dropping them seems acceptable. Will explore more."
   ]
  },
  {
   "cell_type": "code",
   "execution_count": 35,
   "id": "53221288-7650-4ceb-814c-acc8bb435001",
   "metadata": {
    "tags": []
   },
   "outputs": [],
   "source": [
    "# Bedroom value counts\n",
    "# zillow.bedroomcnt.value_counts(dropna=False, ascending=True)"
   ]
  },
  {
   "cell_type": "markdown",
   "id": "b59536e2-7a9c-42db-b85f-ca690f125b67",
   "metadata": {},
   "source": [
    "Looks like most houses have 0 to 6 rooms. Only 11 nulls"
   ]
  },
  {
   "cell_type": "code",
   "execution_count": 36,
   "id": "03d85ee5-2722-4df7-92f2-810ed449666f",
   "metadata": {
    "tags": []
   },
   "outputs": [],
   "source": [
    "# Null bedroom values\n",
    "# zillow[zillow.bedroomcnt.isnull()]"
   ]
  },
  {
   "cell_type": "markdown",
   "id": "4a243c82-c054-44b7-a512-2ad4559b9abe",
   "metadata": {},
   "source": [
    "Where bedroomcnt is null bathroomcnt is null also missing most square feet, tax amount and some year built"
   ]
  },
  {
   "cell_type": "code",
   "execution_count": 37,
   "id": "62242a68-a3c1-4445-a548-c68ef0b7fe2b",
   "metadata": {
    "tags": []
   },
   "outputs": [],
   "source": [
    "# Bathroom value counts\n",
    "# zillow.bathroomcnt.value_counts(dropna=False, ascending=True)"
   ]
  },
  {
   "cell_type": "markdown",
   "id": "aed5e8ed-69a2-495f-a8b0-c3b6e4eabe43",
   "metadata": {},
   "source": [
    "11 nulls, most houses have 0 to 6 bathrooms"
   ]
  },
  {
   "cell_type": "code",
   "execution_count": 38,
   "id": "544051e2-78dd-447c-b56d-59a150a7a4f7",
   "metadata": {
    "tags": []
   },
   "outputs": [],
   "source": [
    "# Null bathroom values\n",
    "# zillow[zillow.bathroomcnt.isnull()]"
   ]
  },
  {
   "cell_type": "markdown",
   "id": "8b4e3248-aeac-46ef-852b-3b7f1be25758",
   "metadata": {},
   "source": [
    "Same data as bedroomcnt"
   ]
  },
  {
   "cell_type": "code",
   "execution_count": 39,
   "id": "61508317-efa7-4a21-b315-f56d3f3b074f",
   "metadata": {
    "tags": []
   },
   "outputs": [],
   "source": [
    "# finished sqaure feet counts\n",
    "# zillow.finishedsquareft.value_counts(dropna=False, ascending = False)"
   ]
  },
  {
   "cell_type": "markdown",
   "id": "f1dd8e16-a5bc-4218-832c-f0e7adb2d0ad",
   "metadata": {},
   "source": [
    "Mostly unique values. over 8000 nulls"
   ]
  },
  {
   "cell_type": "code",
   "execution_count": 40,
   "id": "81cf1545-060a-4623-a986-ca7bb85fec9d",
   "metadata": {
    "tags": []
   },
   "outputs": [],
   "source": [
    "# Null finishedsquareft values\n",
    "# zillow[zillow.finishedsquareft.isnull()]"
   ]
  },
  {
   "cell_type": "markdown",
   "id": "13f61dc4-bafd-432b-a23f-012f6e56d712",
   "metadata": {},
   "source": [
    "Most nulls are missing a majority of the data"
   ]
  },
  {
   "cell_type": "code",
   "execution_count": 41,
   "id": "1683df8d-b99f-4ab4-bfc7-712caa8adb2a",
   "metadata": {
    "tags": []
   },
   "outputs": [],
   "source": [
    "# tax value dollar count counts\n",
    "# zillow.taxvaluedollarcnt.value_counts(dropna=False, ascending = True)"
   ]
  },
  {
   "cell_type": "markdown",
   "id": "b1cb778e-f67e-4e7f-aaea-5425224c81dd",
   "metadata": {},
   "source": [
    "Unique values. "
   ]
  },
  {
   "cell_type": "code",
   "execution_count": 42,
   "id": "abfb064e-b4a2-45ac-b2b4-436fae92cac0",
   "metadata": {
    "tags": []
   },
   "outputs": [],
   "source": [
    "# Null taxvaluedollarcnt values\n",
    "# zillow[zillow.taxvaluedollarcnt.isnull()]"
   ]
  },
  {
   "cell_type": "markdown",
   "id": "f4f7bd1a-9369-4871-bdce-8faeb949afdd",
   "metadata": {},
   "source": [
    "Most null are missing a majority of the data"
   ]
  },
  {
   "cell_type": "code",
   "execution_count": 43,
   "id": "c8c9459b-784b-471a-b9d7-00a19c40cb4e",
   "metadata": {
    "tags": []
   },
   "outputs": [],
   "source": [
    "# Year built value counts\n",
    "# zillow.yearbuilt.value_counts(dropna=False, ascending = True)"
   ]
  },
  {
   "cell_type": "markdown",
   "id": "b92a11c7-7ca8-4e8a-9e12-a9c3b3c02c7c",
   "metadata": {},
   "source": [
    "Houses range in year built. Starting in the 1800's. A good amount were built in the 1950's. Over 9000 nulls."
   ]
  },
  {
   "cell_type": "code",
   "execution_count": 44,
   "id": "8ded1045-1b77-436c-8b0c-f9be61709181",
   "metadata": {
    "tags": []
   },
   "outputs": [],
   "source": [
    "# Null year built values\n",
    "# zillow[zillow.yearbuilt.isnull()]"
   ]
  },
  {
   "cell_type": "markdown",
   "id": "54e9924e-6467-4451-992a-617905b389a8",
   "metadata": {},
   "source": [
    "Missing most of the data"
   ]
  },
  {
   "cell_type": "code",
   "execution_count": 45,
   "id": "76f4acfe-9358-403e-8ada-f7d7082014f9",
   "metadata": {
    "tags": []
   },
   "outputs": [],
   "source": [
    "# Tax amount counts\n",
    "# zillow.taxamount.value_counts(dropna=False, ascending = False)"
   ]
  },
  {
   "cell_type": "markdown",
   "id": "d1ca318b-5843-452f-8f54-4730c560378a",
   "metadata": {},
   "source": [
    "Mostly unique, 4000 nulls"
   ]
  },
  {
   "cell_type": "code",
   "execution_count": 46,
   "id": "eb06436f-697b-4354-8920-89e45e6e175a",
   "metadata": {
    "tags": []
   },
   "outputs": [],
   "source": [
    "# Null tax amount values\n",
    "# zillow[zillow.taxamount.isnull()]"
   ]
  },
  {
   "cell_type": "markdown",
   "id": "fbcf0b09-1a8c-4f15-a3c6-95ee60c834f0",
   "metadata": {},
   "source": [
    "More data than most but still missing a lot and only makes up a small percentage of overall data."
   ]
  },
  {
   "cell_type": "code",
   "execution_count": 47,
   "id": "7d1f5ad8-d4ce-466d-9e47-8267bdd63edc",
   "metadata": {
    "tags": []
   },
   "outputs": [],
   "source": [
    "# fips value counts\n",
    "# zillow.fips.value_counts(dropna=False, ascending = True)"
   ]
  },
  {
   "cell_type": "markdown",
   "id": "b43ca8c6-0c80-427b-8fb8-18df91757ef0",
   "metadata": {},
   "source": [
    "3 values. Exploring fips it looks to be a county identifier.\n",
    "- 6111: Ventura, Ca, \n",
    "- 6059: Orange, Ca, \n",
    "- 6037: Los Angeles, Ca \n",
    "\n",
    "change the data type to a string and one hot encode "
   ]
  },
  {
   "cell_type": "markdown",
   "id": "acf4c9ae-f3b8-4d6a-9935-1cf6f1ae3080",
   "metadata": {},
   "source": [
    "#### Takeaways from exploring nulls and variables\n",
    "\n",
    "I should be able to drop nulls and rename fips as county. Then assign the county names and one hot encode for later analysis."
   ]
  },
  {
   "cell_type": "markdown",
   "id": "4b2d807e-78c1-43ce-973e-78877292dfb7",
   "metadata": {
    "tags": []
   },
   "source": [
    "### Prep Data"
   ]
  },
  {
   "cell_type": "code",
   "execution_count": 12,
   "id": "1f9417b3-34f6-4d07-95de-3ad725fd1f71",
   "metadata": {},
   "outputs": [],
   "source": [
    "# Drop nulls\n",
    "zillow = zillow.dropna()"
   ]
  },
  {
   "cell_type": "code",
   "execution_count": 13,
   "id": "9bd7d677-139f-4f3e-af05-d992da3c0bad",
   "metadata": {},
   "outputs": [],
   "source": [
    "# check for nulls\n",
    "# zillow.isnull().sum()"
   ]
  },
  {
   "cell_type": "code",
   "execution_count": 14,
   "id": "3720be9f-0939-408b-9445-870f70450ba2",
   "metadata": {},
   "outputs": [],
   "source": [
    "# Rename columns\n",
    "zillow = zillow.rename(columns={'bedroomcnt' : 'bedrooms',\\\n",
    "                                'bathroomcnt' : 'bathrooms',\\\n",
    "                                'finishedsquareft' : 'area',\\\n",
    "                                'taxvaluedollarcnt' : 'taxable_value',\\\n",
    "                                'yearbuilt' : 'year_built',\\\n",
    "                                'taxamount' : 'tax_amount',\\\n",
    "                                'fips' : 'county'})"
   ]
  },
  {
   "cell_type": "code",
   "execution_count": 16,
   "id": "cb9fb3ef-c8b1-40fc-b277-3bca217d7202",
   "metadata": {},
   "outputs": [],
   "source": [
    "# Map county values to name of county\n",
    "zillow.county = zillow.county.map({6037.0 : 'los_angeles_ca',\\\n",
    "                                   6059.0 : 'orange_ca',\\\n",
    "                                   6111.0 : 'ventura_ca'})"
   ]
  },
  {
   "cell_type": "code",
   "execution_count": 6,
   "id": "c9338c74-a550-499c-97e5-5b654c5dc1aa",
   "metadata": {},
   "outputs": [],
   "source": [
    "# One hot encode county \n",
    "\n",
    "# Get dummy variables\n",
    "dummy_name = pd.get_dummies(zillow[['county']])\n",
    "\n",
    "# Concat dummy_name to dataframe\n",
    "zillow = pd.concat([zillow,dummy_name],axis=1)\n",
    "\n",
    "# zillow.head()"
   ]
  },
  {
   "cell_type": "code",
   "execution_count": null,
   "id": "740648f9-bff0-481d-9c0f-0954e4300e88",
   "metadata": {},
   "outputs": [],
   "source": []
  },
  {
   "cell_type": "markdown",
   "id": "a9eebcc2-5df8-4d2d-8fee-7bece66a76f9",
   "metadata": {},
   "source": [
    "### Create wrangle function"
   ]
  },
  {
   "cell_type": "code",
   "execution_count": 4,
   "id": "afaa9e97-511c-4e76-8f94-56c6d6c88cf1",
   "metadata": {
    "tags": []
   },
   "outputs": [],
   "source": [
    "def wrangle_zillow():\n",
    "    '''\n",
    "    function used to wrangle zillow data\n",
    "    '''\n",
    "    \n",
    "    # Rename columns\n",
    "    zillow = zillow.rename(columns={'bedroomcnt' : 'bedrooms',\\\n",
    "                                    'bathroomcnt' : 'bathrooms',\\\n",
    "                                    'finishedsquareft' : 'area',\\\n",
    "                                    'taxvaluedollarcnt' : 'taxable_value',\\\n",
    "                                    'yearbuilt' : 'year_built',\\\n",
    "                                    'taxamount' : 'tax_amount',\\\n",
    "                                    'fips' : 'county'})\n",
    "    \n",
    "    # Drop nulls\n",
    "    zillow = get_zillow_data()\n",
    "    \n",
    "    # Rename fips to county\n",
    "    zillow = zillow.dropna()\n",
    "    \n",
    "    # Map county values to name of county\n",
    "    zillow.county = zillow.county.map({6037.0 : 'los_angeles_ca',\\\n",
    "                                       6059.0 : 'orange_ca',\\\n",
    "                                       6111.0 : 'ventura_ca'})\n",
    "    \n",
    "    \n",
    "    # One hot encode county \n",
    "\n",
    "    # Get dummy variables\n",
    "    dummy_name = pd.get_dummies(zillow[['county']])\n",
    "\n",
    "    # Concat dummy_name to dataframe\n",
    "    zillow = pd.concat([zillow,dummy_name],axis=1)\n",
    "    \n",
    "    return zillow"
   ]
  },
  {
   "cell_type": "markdown",
   "id": "30a5d6fb-d789-47a9-825d-a0910b987e16",
   "metadata": {},
   "source": [
    "### Visualize Distributions"
   ]
  },
  {
   "cell_type": "code",
   "execution_count": 35,
   "id": "764910c6-3de8-4902-a2e1-152ad97c7480",
   "metadata": {},
   "outputs": [],
   "source": [
    "# Visualize each variable with a displot\n",
    "# for col in zillow.columns[zillow.dtypes == 'float']:\n",
    "#     sns.displot(zillow[col],bins = 10)\n",
    "#     plt.title(col)\n",
    "#     plt.show()"
   ]
  },
  {
   "cell_type": "markdown",
   "id": "40352e32-7566-4784-bcd6-7097401c3333",
   "metadata": {},
   "source": [
    "Nothing really to note"
   ]
  },
  {
   "cell_type": "code",
   "execution_count": 8,
   "id": "f1e7e9d4-f235-4154-b71f-aae3cf8b1c89",
   "metadata": {},
   "outputs": [
    {
     "data": {
      "image/png": "[encoded data removed]",
      "text/plain": [
       "<Figure size 432x288 with 1 Axes>"
      ]
     },
     "metadata": {
      "needs_background": "light"
     },
     "output_type": "display_data"
    },
    {
     "data": {
      "image/png": "[encoded data removed]",
      "text/plain": [
       "<Figure size 432x288 with 1 Axes>"
      ]
     },
     "metadata": {
      "needs_background": "light"
     },
     "output_type": "display_data"
    },
    {
     "data": {
      "image/png": "[encoded data removed]",
      "text/plain": [
       "<Figure size 432x288 with 1 Axes>"
      ]
     },
     "metadata": {
      "needs_background": "light"
     },
     "output_type": "display_data"
    },
    {
     "data": {
      "image/png": "[encoded data removed]",
      "text/plain": [
       "<Figure size 432x288 with 1 Axes>"
      ]
     },
     "metadata": {
      "needs_background": "light"
     },
     "output_type": "display_data"
    },
    {
     "data": {
      "image/png": "[encoded data removed]",
      "text/plain": [
       "<Figure size 432x288 with 1 Axes>"
      ]
     },
     "metadata": {
      "needs_background": "light"
     },
     "output_type": "display_data"
    },
    {
     "data": {
      "image/png": "[encoded data removed]",
      "text/plain": [
       "<Figure size 432x288 with 1 Axes>"
      ]
     },
     "metadata": {
      "needs_background": "light"
     },
     "output_type": "display_data"
    }
   ],
   "source": [
    "# Box plot for float data. \n",
    "for col in zillow.columns[zillow.dtypes == 'float']:\n",
    "    sns.boxplot(x = col, data = zillow)\n",
    "    plt.title(col)\n",
    "    plt.show()"
   ]
  },
  {
   "cell_type": "markdown",
   "id": "19df2cd6-ea08-4e71-abcd-3ca1f75535df",
   "metadata": {},
   "source": [
    "Looks to be a lot of outliers"
   ]
  },
  {
   "cell_type": "code",
   "execution_count": 59,
   "id": "e89efad6-b86e-4e3c-9575-7dd27ffe38f6",
   "metadata": {},
   "outputs": [],
   "source": [
    "# Count for counties\n",
    "# sns.countplot(data=zillow,x='county')\n",
    "# plt.show()"
   ]
  },
  {
   "cell_type": "code",
   "execution_count": 60,
   "id": "02dab9a5-cc25-41a5-b1de-cd32c3ec8ae7",
   "metadata": {},
   "outputs": [],
   "source": [
    "# County value counts\n",
    "# zillow.county.value_counts()"
   ]
  },
  {
   "cell_type": "markdown",
   "id": "9002e011-0719-47ae-a8c9-ed8cc8d14eb5",
   "metadata": {},
   "source": [
    "- LA: 1,425,207 \n",
    "- Orange: 552,057\n",
    "- Ventura: 162,971"
   ]
  },
  {
   "cell_type": "code",
   "execution_count": 5,
   "id": "48f8046b-f4c2-4507-affc-a441195a571a",
   "metadata": {},
   "outputs": [
    {
     "name": "stdout",
     "output_type": "stream",
     "text": [
      "Using cached csv file...\n"
     ]
    },
    {
     "data": {
      "text/html": [
       "<div>\n",
       "<style scoped>\n",
       "    .dataframe tbody tr th:only-of-type {\n",
       "        vertical-align: middle;\n",
       "    }\n",
       "\n",
       "    .dataframe tbody tr th {\n",
       "        vertical-align: top;\n",
       "    }\n",
       "\n",
       "    .dataframe thead th {\n",
       "        text-align: right;\n",
       "    }\n",
       "</style>\n",
       "<table border=\"1\" class=\"dataframe\">\n",
       "  <thead>\n",
       "    <tr style=\"text-align: right;\">\n",
       "      <th></th>\n",
       "      <th>bedroomcnt</th>\n",
       "      <th>bathroomcnt</th>\n",
       "      <th>finishedsquareft</th>\n",
       "      <th>taxvaluedollarcnt</th>\n",
       "      <th>yearbuilt</th>\n",
       "      <th>taxamount</th>\n",
       "      <th>county</th>\n",
       "      <th>county_los_angeles_ca</th>\n",
       "      <th>county_orange_ca</th>\n",
       "      <th>county_ventura_ca</th>\n",
       "    </tr>\n",
       "  </thead>\n",
       "  <tbody>\n",
       "    <tr>\n",
       "      <th>4</th>\n",
       "      <td>4.0</td>\n",
       "      <td>2.0</td>\n",
       "      <td>3633.0</td>\n",
       "      <td>296425.0</td>\n",
       "      <td>2005.0</td>\n",
       "      <td>6941.39</td>\n",
       "      <td>los_angeles_ca</td>\n",
       "      <td>1</td>\n",
       "      <td>0</td>\n",
       "      <td>0</td>\n",
       "    </tr>\n",
       "    <tr>\n",
       "      <th>6</th>\n",
       "      <td>3.0</td>\n",
       "      <td>4.0</td>\n",
       "      <td>1620.0</td>\n",
       "      <td>847770.0</td>\n",
       "      <td>2011.0</td>\n",
       "      <td>10244.94</td>\n",
       "      <td>los_angeles_ca</td>\n",
       "      <td>1</td>\n",
       "      <td>0</td>\n",
       "      <td>0</td>\n",
       "    </tr>\n",
       "    <tr>\n",
       "      <th>7</th>\n",
       "      <td>3.0</td>\n",
       "      <td>2.0</td>\n",
       "      <td>2077.0</td>\n",
       "      <td>646760.0</td>\n",
       "      <td>1926.0</td>\n",
       "      <td>7924.68</td>\n",
       "      <td>los_angeles_ca</td>\n",
       "      <td>1</td>\n",
       "      <td>0</td>\n",
       "      <td>0</td>\n",
       "    </tr>\n",
       "    <tr>\n",
       "      <th>11</th>\n",
       "      <td>0.0</td>\n",
       "      <td>0.0</td>\n",
       "      <td>1200.0</td>\n",
       "      <td>5328.0</td>\n",
       "      <td>1972.0</td>\n",
       "      <td>91.60</td>\n",
       "      <td>los_angeles_ca</td>\n",
       "      <td>1</td>\n",
       "      <td>0</td>\n",
       "      <td>0</td>\n",
       "    </tr>\n",
       "    <tr>\n",
       "      <th>14</th>\n",
       "      <td>0.0</td>\n",
       "      <td>0.0</td>\n",
       "      <td>171.0</td>\n",
       "      <td>6920.0</td>\n",
       "      <td>1973.0</td>\n",
       "      <td>255.17</td>\n",
       "      <td>los_angeles_ca</td>\n",
       "      <td>1</td>\n",
       "      <td>0</td>\n",
       "      <td>0</td>\n",
       "    </tr>\n",
       "  </tbody>\n",
       "</table>\n",
       "</div>"
      ],
      "text/plain": [
       "    bedroomcnt  bathroomcnt  finishedsquareft  taxvaluedollarcnt  yearbuilt  \\\n",
       "4          4.0          2.0            3633.0           296425.0     2005.0   \n",
       "6          3.0          4.0            1620.0           847770.0     2011.0   \n",
       "7          3.0          2.0            2077.0           646760.0     1926.0   \n",
       "11         0.0          0.0            1200.0             5328.0     1972.0   \n",
       "14         0.0          0.0             171.0             6920.0     1973.0   \n",
       "\n",
       "    taxamount          county  county_los_angeles_ca  county_orange_ca  \\\n",
       "4     6941.39  los_angeles_ca                      1                 0   \n",
       "6    10244.94  los_angeles_ca                      1                 0   \n",
       "7     7924.68  los_angeles_ca                      1                 0   \n",
       "11      91.60  los_angeles_ca                      1                 0   \n",
       "14     255.17  los_angeles_ca                      1                 0   \n",
       "\n",
       "    county_ventura_ca  \n",
       "4                   0  \n",
       "6                   0  \n",
       "7                   0  \n",
       "11                  0  \n",
       "14                  0  "
      ]
     },
     "execution_count": 5,
     "metadata": {},
     "output_type": "execute_result"
    }
   ],
   "source": [
    "zillow = wrangle_zillow()\n",
    "zillow.head()"
   ]
  },
  {
   "cell_type": "code",
   "execution_count": null,
   "id": "10059d69-4e46-4b94-b26e-bfff4dfa9d7b",
   "metadata": {},
   "outputs": [],
   "source": []
  }
 ],
 "metadata": {
  "kernelspec": {
   "display_name": "Python 3 (ipykernel)",
   "language": "python",
   "name": "python3"
  },
  "language_info": {
   "codemirror_mode": {
    "name": "ipython",
    "version": 3
   },
   "file_extension": ".py",
   "mimetype": "text/x-python",
   "name": "python",
   "nbconvert_exporter": "python",
   "pygments_lexer": "ipython3",
   "version": "3.9.7"
  }
 },
 "nbformat": 4,
 "nbformat_minor": 5
}
